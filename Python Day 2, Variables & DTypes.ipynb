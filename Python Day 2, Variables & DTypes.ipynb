{
  "nbformat": 4,
  "nbformat_minor": 0,
  "metadata": {
    "colab": {
      "provenance": []
    },
    "kernelspec": {
      "name": "python3",
      "display_name": "Python 3"
    },
    "language_info": {
      "name": "python"
    }
  },
  "cells": [
    {
      "cell_type": "markdown",
      "source": [
        "**16-7-2025 | Wednesday | Variables, Data Types in Python**"
      ],
      "metadata": {
        "id": "4FR4uoVHvHoB"
      }
    },
    {
      "cell_type": "markdown",
      "source": [
        "# **✅ 15 Python Practice Questions (Topic Variables, Data Types, reserved keywords)**"
      ],
      "metadata": {
        "id": "ZpaMriWDvj7u"
      }
    },
    {
      "cell_type": "markdown",
      "source": [
        "### **Question 1: Write a Python program to assign your name to a variable and print it.**"
      ],
      "metadata": {
        "id": "SowfHyKZv1oQ"
      }
    },
    {
      "cell_type": "code",
      "execution_count": 1,
      "metadata": {
        "colab": {
          "base_uri": "https://localhost:8080/"
        },
        "id": "YdtLS_1Ou5Q4",
        "outputId": "a1fd78e8-f52b-40d0-f4c9-e4e5d9eca81c"
      },
      "outputs": [
        {
          "output_type": "stream",
          "name": "stdout",
          "text": [
            "Zunaira Hameed\n"
          ]
        }
      ],
      "source": [
        "my_name = \"Zunaira Hameed\"\n",
        "print(my_name)"
      ]
    },
    {
      "cell_type": "markdown",
      "source": [
        "### **Question 2: Swap the values of two variables a = 5 and b = 10 and print them.**"
      ],
      "metadata": {
        "id": "KN4KOvEKwL49"
      }
    },
    {
      "cell_type": "code",
      "source": [
        "a=5\n",
        "b=10\n",
        "c=0\n",
        "\n",
        "c=a # store original value of a in c\n",
        "a=b # Assign value of b to a\n",
        "b=c # Assign value of c to b\n",
        "print(\"a=\",a)\n",
        "print(\"b=\",b)"
      ],
      "metadata": {
        "colab": {
          "base_uri": "https://localhost:8080/"
        },
        "id": "tTLtpWc-wP5P",
        "outputId": "c01a0961-fa75-4151-86bf-55b0fc995567"
      },
      "execution_count": 14,
      "outputs": [
        {
          "output_type": "stream",
          "name": "stdout",
          "text": [
            "a= 10\n",
            "b= 5\n"
          ]
        }
      ]
    },
    {
      "cell_type": "markdown",
      "source": [
        "### **Question 3: Assign values to three variables in a single line and print them.**"
      ],
      "metadata": {
        "id": "rqc5IQFZykx2"
      }
    },
    {
      "cell_type": "code",
      "source": [
        "a,b,c = 5,10,20\n",
        "print(\"a=\",a)\n",
        "print(\"b=\",b)\n",
        "print(\"c=\",c)"
      ],
      "metadata": {
        "colab": {
          "base_uri": "https://localhost:8080/"
        },
        "id": "LndfQ8fByogR",
        "outputId": "27343dcf-df26-4da0-b69d-6fc3121804e3"
      },
      "execution_count": 15,
      "outputs": [
        {
          "output_type": "stream",
          "name": "stdout",
          "text": [
            "a= 5\n",
            "b= 10\n",
            "c= 20\n"
          ]
        }
      ]
    },
    {
      "cell_type": "markdown",
      "source": [
        "###**Question 4: What will be the output of the following code?**\n",
        "###x = 10  \n",
        "###y = x + 5  \n",
        "###print(y)\n"
      ],
      "metadata": {
        "id": "4uPhYn06y-VZ"
      }
    },
    {
      "cell_type": "code",
      "source": [
        "x= 10\n",
        "y = x + 5\n",
        "print(\"Output is: y=\", y)"
      ],
      "metadata": {
        "colab": {
          "base_uri": "https://localhost:8080/"
        },
        "id": "nj8iy_eMzL9R",
        "outputId": "b4234755-d3df-4ef2-9e28-215eabd15652"
      },
      "execution_count": 18,
      "outputs": [
        {
          "output_type": "stream",
          "name": "stdout",
          "text": [
            "Output is: y= 15\n"
          ]
        }
      ]
    },
    {
      "cell_type": "markdown",
      "source": [
        "### **Questions 5: Take a user's name and age as input and print them in a single line using formatted strings.**"
      ],
      "metadata": {
        "id": "4cECDSf5za3E"
      }
    },
    {
      "cell_type": "code",
      "source": [
        "user_name = input(\"Enter your name: \")\n",
        "user_age = input(\"Enter your age: \")\n",
        "print(f\"Your name is {user_name} and your age is {user_age}.\")"
      ],
      "metadata": {
        "colab": {
          "base_uri": "https://localhost:8080/"
        },
        "id": "Kpbq3kNmzhhV",
        "outputId": "ee288b48-ebe9-4211-fe64-3749f9b6e862"
      },
      "execution_count": 19,
      "outputs": [
        {
          "output_type": "stream",
          "name": "stdout",
          "text": [
            "Enter your name: Zunaira\n",
            "Enter your age: 22\n",
            "Your name is Zunaira and your age is 22.\n"
          ]
        }
      ]
    },
    {
      "cell_type": "markdown",
      "source": [
        "### **Question 6: What are keywords in Python? List any 5 Python keywords.**"
      ],
      "metadata": {
        "id": "_n4wtVx6zx26"
      }
    },
    {
      "cell_type": "markdown",
      "source": [
        "### **Answer:**\n",
        "Python keywords are reserved words in python that have special meaning and purpose in python language.They can't be used as identifiers (as variables, class names, functions).\n",
        "### **List of reserved keywords:**\n",
        "1. print\n",
        "2. input\n",
        "3. string\n",
        "4. int\n",
        "5. def\n",
        "6. if\n",
        "7. else\n",
        "8. elif\n",
        "9. for\n",
        "10. while\n",
        "11. break\n",
        "12. class\n",
        "13. return\n",
        "14. import"
      ],
      "metadata": {
        "id": "jUNXjeLCz-cx"
      }
    },
    {
      "cell_type": "markdown",
      "source": [
        "### **Question 7: Is class, def, or for a variable name? Why or why not?**"
      ],
      "metadata": {
        "id": "Py4oUIDo1VtV"
      }
    },
    {
      "cell_type": "markdown",
      "source": [
        "### **Answer:**\n",
        "No, they couldn't be variable names, because they are reserved words in python that have special meanings."
      ],
      "metadata": {
        "id": "6BONB2d-1boJ"
      }
    },
    {
      "cell_type": "markdown",
      "source": [
        "### **Question 8: Write a program using if, else, and elif keywords to check if a number is positive, negative, or zero.**"
      ],
      "metadata": {
        "id": "v1WySwMb1xpj"
      }
    },
    {
      "cell_type": "code",
      "source": [
        "a = -99\n",
        "if (a>0):\n",
        "  print(\"Number is positive\")\n",
        "elif (a<0):\n",
        "  print(\"Number is negative\")\n",
        "else:\n",
        "  print(\"Number is zero\")"
      ],
      "metadata": {
        "colab": {
          "base_uri": "https://localhost:8080/"
        },
        "id": "_WYgHdEt0nUv",
        "outputId": "3b5b9a82-0ff1-4c7c-fef1-685da6d5580b"
      },
      "execution_count": 20,
      "outputs": [
        {
          "output_type": "stream",
          "name": "stdout",
          "text": [
            "Number is negative\n"
          ]
        }
      ]
    },
    {
      "cell_type": "markdown",
      "source": [
        "###**Question 9: Identify the keyword in this code:**\n",
        "### def greet():\n",
        "###   print(\"Hello World\")"
      ],
      "metadata": {
        "id": "m7IdEDP72NyW"
      }
    },
    {
      "cell_type": "markdown",
      "source": [
        "### **Answer:**\n",
        "In the given code, 'def' & 'print' are reserved keywords."
      ],
      "metadata": {
        "id": "99mPW84q2eLE"
      }
    },
    {
      "cell_type": "markdown",
      "source": [
        "### **Question 10: Write a Python program that uses the True and False keywords in a condition.**"
      ],
      "metadata": {
        "id": "epH5VrlP2w8c"
      }
    },
    {
      "cell_type": "code",
      "source": [
        "a = 66\n",
        "if (a<=100):\n",
        "  print(True)\n",
        "else:\n",
        "  print(False)"
      ],
      "metadata": {
        "colab": {
          "base_uri": "https://localhost:8080/"
        },
        "id": "fdaPsHp42dJj",
        "outputId": "9926d71d-c4ad-4e24-bd0e-fc928d2a7784"
      },
      "execution_count": 21,
      "outputs": [
        {
          "output_type": "stream",
          "name": "stdout",
          "text": [
            "True\n"
          ]
        }
      ]
    },
    {
      "cell_type": "markdown",
      "source": [
        "### **Question 11: Declare variables of the following types and print them: integer, float, string, boolean, list.**"
      ],
      "metadata": {
        "id": "6yr8hYwG3Zcn"
      }
    },
    {
      "cell_type": "code",
      "source": [
        "age = 22\n",
        "height = 5.2\n",
        "name = \"Zunaira\"\n",
        "cs_student = True\n",
        "my_skills = ['Machine Learning', 'Data Anlaysis', 'Data Visualizaion', 'Wordpress']\n",
        "\n",
        "print(f\"My name is: {name}, My age is: {age}, My height is: {height}ft, I am a CS student: {cs_student}, My skills are: {my_skills}\")"
      ],
      "metadata": {
        "colab": {
          "base_uri": "https://localhost:8080/"
        },
        "id": "ZUP8SbKT3fqI",
        "outputId": "5e63b3d5-3839-41b8-92d1-6ccc68bb71c6"
      },
      "execution_count": 25,
      "outputs": [
        {
          "output_type": "stream",
          "name": "stdout",
          "text": [
            "My name is: Zunaira, My age is: 22, My height is: 5.2ft, I am a CS student: True, My skills are: ['Machine Learning', 'Data Anlaysis', 'Data Visualizaion', 'Wordpress']\n"
          ]
        }
      ]
    },
    {
      "cell_type": "markdown",
      "source": [
        "### **Question 12: What will be the output and data type of this code?**\n",
        "x = 5.0 + 3  \n",
        "print(x, type(x))"
      ],
      "metadata": {
        "id": "F74Sbm3q5Ch7"
      }
    },
    {
      "cell_type": "code",
      "source": [
        "x = 5.0 + 3\n",
        "print(\"Output is:\", x, type(x))"
      ],
      "metadata": {
        "colab": {
          "base_uri": "https://localhost:8080/"
        },
        "id": "JpDg3t5q5Ph2",
        "outputId": "cbc55473-b758-46d4-a2a9-c8b542392e4a"
      },
      "execution_count": 27,
      "outputs": [
        {
          "output_type": "stream",
          "name": "stdout",
          "text": [
            "Output is: 8.0 <class 'float'>\n"
          ]
        }
      ]
    },
    {
      "cell_type": "markdown",
      "source": [
        "### **Question 13: Convert the string \"123\" to an integer and perform addition with 7.**"
      ],
      "metadata": {
        "id": "nCQiwti25kPW"
      }
    },
    {
      "cell_type": "code",
      "source": [
        "string_num = \"123\"\n",
        "int_num = int(string_num)\n",
        "result = int_num+7\n",
        "print(result)"
      ],
      "metadata": {
        "colab": {
          "base_uri": "https://localhost:8080/"
        },
        "id": "BjxcVT7m5ovD",
        "outputId": "b50216ad-384f-42c1-ba9b-2c630a8b2800"
      },
      "execution_count": 28,
      "outputs": [
        {
          "output_type": "stream",
          "name": "stdout",
          "text": [
            "130\n"
          ]
        }
      ]
    },
    {
      "cell_type": "markdown",
      "source": [
        "### **Question 14: Create a variable a = 5 and check if it's of type int.**"
      ],
      "metadata": {
        "id": "uPg85ev06ANM"
      }
    },
    {
      "cell_type": "code",
      "source": [
        "a = 5\n",
        "print(type(a))"
      ],
      "metadata": {
        "colab": {
          "base_uri": "https://localhost:8080/"
        },
        "id": "odwSc5Y_6E1_",
        "outputId": "1632a8e1-4a83-4f1a-ea67-08c655d7dbb5"
      },
      "execution_count": 30,
      "outputs": [
        {
          "output_type": "stream",
          "name": "stdout",
          "text": [
            "<class 'int'>\n"
          ]
        }
      ]
    },
    {
      "cell_type": "markdown",
      "source": [
        "### **Question 15: Write a program to take two numbers as input from the user, add them, and print the result with proper type conversion.**"
      ],
      "metadata": {
        "id": "VXkoGGU26jII"
      }
    },
    {
      "cell_type": "code",
      "source": [
        "num1 = int(input(\"Enter first number: \"))\n",
        "num2 = int(input(\"Enter second number: \"))\n",
        "result = num1 + num2\n",
        "print(f\"The sum of {num1} and {num2} is: {result}\")"
      ],
      "metadata": {
        "colab": {
          "base_uri": "https://localhost:8080/"
        },
        "id": "7KrHt7B46npv",
        "outputId": "6cc9d6be-5e1c-48f3-b30b-0ca34e591b99"
      },
      "execution_count": 31,
      "outputs": [
        {
          "output_type": "stream",
          "name": "stdout",
          "text": [
            "Enter first number: 1\n",
            "Enter second number: 2\n",
            "The sum of 1 and 2 is: 3\n"
          ]
        }
      ]
    }
  ]
}