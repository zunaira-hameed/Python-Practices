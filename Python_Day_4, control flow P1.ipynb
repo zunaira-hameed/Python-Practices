{
  "nbformat": 4,
  "nbformat_minor": 0,
  "metadata": {
    "colab": {
      "provenance": []
    },
    "kernelspec": {
      "name": "python3",
      "display_name": "Python 3"
    },
    "language_info": {
      "name": "python"
    }
  },
  "cells": [
    {
      "cell_type": "markdown",
      "source": [
        "**18-7-2025 | Friday | Control Flow Part 1**"
      ],
      "metadata": {
        "id": "bWmZ5WykGlVg"
      }
    },
    {
      "cell_type": "markdown",
      "source": [
        "# **✅ 15 Python Practice Questions (Topics: Conditional statements, Loop control)**"
      ],
      "metadata": {
        "id": "33W5BOu8GunQ"
      }
    },
    {
      "cell_type": "markdown",
      "source": [
        "### **Question 1: Write a Python program that checks if a number is positive, negative, or zero.**"
      ],
      "metadata": {
        "id": "VCL8lgw5HdEk"
      }
    },
    {
      "cell_type": "code",
      "execution_count": 2,
      "metadata": {
        "colab": {
          "base_uri": "https://localhost:8080/"
        },
        "id": "Ku3LrVIbGWy-",
        "outputId": "d10817b5-912a-4646-a02a-9e6160ed24ec"
      },
      "outputs": [
        {
          "output_type": "stream",
          "name": "stdout",
          "text": [
            "Enter a number: 233\n",
            "The number is positive\n"
          ]
        }
      ],
      "source": [
        "num1 = int(input(\"Enter a number: \"))\n",
        "if num1 > 0:\n",
        "    print(\"The number is positive\")\n",
        "elif num1 < 0:\n",
        "    print(\"The number is negative\")\n",
        "else:\n",
        "    print(\"The number is zero\")"
      ]
    },
    {
      "cell_type": "markdown",
      "source": [
        "### **Question 2: Ask the user to enter their age. Print:**\n",
        "“Minor” if age < 18\n",
        "“Adult” if 18 ≤ age < 60\n",
        "“Senior” if age ≥ 60"
      ],
      "metadata": {
        "id": "fv1_Nw63HxNT"
      }
    },
    {
      "cell_type": "code",
      "source": [
        "user_age = int(input(\"Enter your age: \"))\n",
        "if user_age < 18:\n",
        "    print(\"Minor\")\n",
        "elif user_age >= 18 and user_age < 60:\n",
        "    print(\"Adult\")\n",
        "else:\n",
        "    print(\"Senior\")"
      ],
      "metadata": {
        "colab": {
          "base_uri": "https://localhost:8080/"
        },
        "id": "XwskADhYH_Nz",
        "outputId": "8d187c72-134f-46ce-c516-f5702ee965a5"
      },
      "execution_count": 3,
      "outputs": [
        {
          "output_type": "stream",
          "name": "stdout",
          "text": [
            "Enter your age: 45\n",
            "Adult\n"
          ]
        }
      ]
    },
    {
      "cell_type": "markdown",
      "source": [
        "### **Question 3: Write a program to check whether a given number is divisible by 3 and 5 both.**"
      ],
      "metadata": {
        "id": "6lvkioiNIS61"
      }
    },
    {
      "cell_type": "code",
      "source": [
        "num1 = int(input(\"Enter a number: \"))\n",
        "if (num1 % 3 == 0 and num1 % 5 == 0):\n",
        "  print(\"Number is divisible by 3 and 5\")\n",
        "else:\n",
        "  print(\"Number is not divisible by 3 and 5\")"
      ],
      "metadata": {
        "colab": {
          "base_uri": "https://localhost:8080/"
        },
        "id": "57cIlR6zIaDj",
        "outputId": "9a547c35-0a26-4231-bea2-1b26826f3ebe"
      },
      "execution_count": 6,
      "outputs": [
        {
          "output_type": "stream",
          "name": "stdout",
          "text": [
            "Enter a number: 28\n",
            "Number is not divisible by 3 and 5\n"
          ]
        }
      ]
    },
    {
      "cell_type": "markdown",
      "source": [
        "### **Question 4: Take a user's input for marks (0–100). Print their grade as:**\n",
        "A (≥90), B (80–89), C (70–79), D (60–69), F (<60)"
      ],
      "metadata": {
        "id": "LGDtYnfUJqWq"
      }
    },
    {
      "cell_type": "code",
      "source": [
        "marks = int(input(\"Enter your result marks: \"))\n",
        "if (marks >= 90):\n",
        "  print(\"Your grade is A\")\n",
        "elif (marks >= 80 and marks < 90):\n",
        "  print(\"Your grade is B\")\n",
        "else:\n",
        "  print(\"Your grade is C\")"
      ],
      "metadata": {
        "colab": {
          "base_uri": "https://localhost:8080/"
        },
        "id": "7OC-ZssPJzSx",
        "outputId": "70f4a117-10f1-4323-c9f9-ff4049deba40"
      },
      "execution_count": 7,
      "outputs": [
        {
          "output_type": "stream",
          "name": "stdout",
          "text": [
            "Enter your result marks: 90\n",
            "Your grade is A\n"
          ]
        }
      ]
    },
    {
      "cell_type": "markdown",
      "source": [
        "### **Question 5: Ask the user to enter a year. Print whether it is a leap year or not.**"
      ],
      "metadata": {
        "id": "MREAInSSKMD6"
      }
    },
    {
      "cell_type": "code",
      "source": [
        "year = int(input(\"Enter an year: \"))\n",
        "if (year % 4 == 0):\n",
        "  print(\"It is a leap year\")\n",
        "else:\n",
        "  print(\"It is not a leap year\")"
      ],
      "metadata": {
        "colab": {
          "base_uri": "https://localhost:8080/"
        },
        "id": "N4bvRvGsKTJ-",
        "outputId": "b9cecc79-6af4-4d8b-8a53-de3cf89ebc42"
      },
      "execution_count": 8,
      "outputs": [
        {
          "output_type": "stream",
          "name": "stdout",
          "text": [
            "Enter an year: 2025\n",
            "It is not a leap year\n"
          ]
        }
      ]
    },
    {
      "cell_type": "markdown",
      "source": [
        "### **Question 6: Write a program to check if a number is positive and even.**"
      ],
      "metadata": {
        "id": "CPi9Wq51KjJ5"
      }
    },
    {
      "cell_type": "code",
      "source": [
        "num1 = int(input(\"Enter a number: \"))\n",
        "if (num1 > 0 and num1 % 2 == 0):\n",
        "  print(\"Number is positive and even\")\n",
        "else:\n",
        "  print(\"Number is not positive and even\")"
      ],
      "metadata": {
        "colab": {
          "base_uri": "https://localhost:8080/"
        },
        "id": "LeLbk4mMKvQj",
        "outputId": "f9454911-6c44-44e6-cc6d-3ce5ea0bb9e8"
      },
      "execution_count": 9,
      "outputs": [
        {
          "output_type": "stream",
          "name": "stdout",
          "text": [
            "Enter a number: 234\n",
            "Number is positive and even\n"
          ]
        }
      ]
    },
    {
      "cell_type": "markdown",
      "source": [
        "### **Question 7: Take three numbers as input and print the largest using nested if.**"
      ],
      "metadata": {
        "id": "bWO8-Zo1LT6m"
      }
    },
    {
      "cell_type": "code",
      "source": [
        "num1 = int(input(\"Enter first number: \"))\n",
        "num2 = int(input(\"Enter second number: \"))\n",
        "num3 = int(input(\"Enter third number: \"))\n",
        "\n",
        "if (num1 >= num2 and num3):\n",
        "  print(\"num1 is the largest number!\")\n",
        "elif (num2 >= num1 and num3):\n",
        "  print(\"num2 is the largest number!\")\n",
        "else:\n",
        "  print(\"num3 is the largest number\")"
      ],
      "metadata": {
        "colab": {
          "base_uri": "https://localhost:8080/"
        },
        "id": "DIBw8CTfLlLc",
        "outputId": "dbfec361-a117-4c17-afd7-7bd74ec4e069"
      },
      "execution_count": 10,
      "outputs": [
        {
          "output_type": "stream",
          "name": "stdout",
          "text": [
            "Enter first number: 67\n",
            "Enter second number: 98\n",
            "Enter third number: 45\n",
            "num2 is the largest number!\n"
          ]
        }
      ]
    },
    {
      "cell_type": "markdown",
      "source": [
        "### **Question 8: Ask the user to enter a password. If the password is correct, ask for a security code. If both are correct, print “Access Granted”; else, print appropriate error messages.**"
      ],
      "metadata": {
        "id": "xtZ48bHcMAuq"
      }
    },
    {
      "cell_type": "code",
      "metadata": {
        "colab": {
          "base_uri": "https://localhost:8080/"
        },
        "id": "ea2880ae",
        "outputId": "640bec2e-4a0f-4ee4-ad88-c15b334aa2c6"
      },
      "source": [
        "enter_password = input(\"Enter your password: \")\n",
        "correct_password = \"Zunaira77\"\n",
        "\n",
        "enter_sec_code = input(\"Enter your security code: \")\n",
        "correct_sec_code = \"1to8\"\n",
        "\n",
        "if enter_password == correct_password:\n",
        "  if enter_sec_code == correct_sec_code:\n",
        "    print(\"Access Granted\")\n",
        "  else:\n",
        "    print(\"Access Denied\")\n"
      ],
      "execution_count": 14,
      "outputs": [
        {
          "output_type": "stream",
          "name": "stdout",
          "text": [
            "Enter your password: Zunaira77\n",
            "Enter your security code: ato8\n",
            "Access Denied\n"
          ]
        }
      ]
    },
    {
      "cell_type": "markdown",
      "source": [
        "### **Question 9: Write a loop that prints numbers from 1 to 10, but stops if it reaches 6.**"
      ],
      "metadata": {
        "id": "CpddmYYqNs0e"
      }
    },
    {
      "cell_type": "code",
      "source": [
        "a = 1\n",
        "while a <= 10:\n",
        "  print(a)\n",
        "  if a == 6:\n",
        "    break\n",
        "  a += 1"
      ],
      "metadata": {
        "colab": {
          "base_uri": "https://localhost:8080/"
        },
        "id": "8CpSUj4MQ30O",
        "outputId": "9223ff50-fcec-48d4-f870-ab2590f93f81"
      },
      "execution_count": 16,
      "outputs": [
        {
          "output_type": "stream",
          "name": "stdout",
          "text": [
            "1\n",
            "2\n",
            "3\n",
            "4\n",
            "5\n",
            "6\n"
          ]
        }
      ]
    },
    {
      "cell_type": "markdown",
      "source": [
        "### **Question 10: Write a loop that prints all numbers from 1 to 10, but skips printing 5.**"
      ],
      "metadata": {
        "id": "yxvUyK_dRYOc"
      }
    },
    {
      "cell_type": "code",
      "metadata": {
        "colab": {
          "base_uri": "https://localhost:8080/"
        },
        "id": "1ab5f182",
        "outputId": "13d86ec7-b7d7-4310-8896-c5797f16ed42"
      },
      "source": [
        "a = 1\n",
        "while a <= 10:\n",
        "  if a == 5:\n",
        "    a += 1\n",
        "    continue\n",
        "  print(a)\n",
        "  a += 1"
      ],
      "execution_count": 20,
      "outputs": [
        {
          "output_type": "stream",
          "name": "stdout",
          "text": [
            "1\n",
            "2\n",
            "3\n",
            "4\n",
            "6\n",
            "7\n",
            "8\n",
            "9\n",
            "10\n"
          ]
        }
      ]
    },
    {
      "cell_type": "markdown",
      "source": [
        "### **Question 11: Use pass inside a loop that runs from 1 to 5. Explain its effect.**"
      ],
      "metadata": {
        "id": "7THn9-yMfuI4"
      }
    },
    {
      "cell_type": "code",
      "source": [
        "a = 1\n",
        "while a <= 5:\n",
        "  if a == 3:\n",
        "    print(a)\n",
        "    pass\n",
        "  a += 1"
      ],
      "metadata": {
        "colab": {
          "base_uri": "https://localhost:8080/"
        },
        "id": "1_iqG2Qnf0Y5",
        "outputId": "242abf0f-bedf-47b9-f398-0985a6897d5e"
      },
      "execution_count": 7,
      "outputs": [
        {
          "output_type": "stream",
          "name": "stdout",
          "text": [
            "3\n"
          ]
        }
      ]
    },
    {
      "cell_type": "markdown",
      "source": [
        "### **Question 12: Use a while loop that keeps asking the user to enter a number. If the user enters 0, break the loop.**"
      ],
      "metadata": {
        "id": "KZOdCFlcg760"
      }
    },
    {
      "cell_type": "code",
      "source": [
        "while True:\n",
        "  num1 = int(input(\"Enter a number: \"))\n",
        "  if num1 == 0:\n",
        "    break\n",
        "  num1 += 1"
      ],
      "metadata": {
        "colab": {
          "base_uri": "https://localhost:8080/"
        },
        "id": "ERGlO8bVhE0o",
        "outputId": "82b29683-2185-471e-da82-6cd59b84074e"
      },
      "execution_count": 5,
      "outputs": [
        {
          "name": "stdout",
          "output_type": "stream",
          "text": [
            "Enter a number: 23\n",
            "Enter a number: 0\n"
          ]
        }
      ]
    },
    {
      "cell_type": "markdown",
      "source": [
        "## **Question 13: Iterate over a list of numbers. Print only the even numbers using continue.**"
      ],
      "metadata": {
        "id": "oZnhD44Yh609"
      }
    },
    {
      "cell_type": "code",
      "source": [
        "list1 = [1,2,3,4,5,6,7,8,9,10,13,14,17,18,19,20]\n",
        "for number in list1:\n",
        "  if number % 2 == 0:\n",
        "    print(number)"
      ],
      "metadata": {
        "colab": {
          "base_uri": "https://localhost:8080/"
        },
        "id": "zEYw9yk6iBEY",
        "outputId": "f5d6ddad-2f48-4a0a-e975-946715784c2e"
      },
      "execution_count": 10,
      "outputs": [
        {
          "output_type": "stream",
          "name": "stdout",
          "text": [
            "2\n",
            "4\n",
            "6\n",
            "8\n",
            "10\n",
            "14\n",
            "18\n",
            "20\n"
          ]
        }
      ]
    },
    {
      "cell_type": "markdown",
      "source": [
        "### **Question 14: Create a loop that prints numbers from 1 to 10. If the number is a multiple of 4, skip it using continue.**"
      ],
      "metadata": {
        "id": "3Yul3f0ui0Uw"
      }
    },
    {
      "cell_type": "code",
      "source": [
        "for number in range(1,11):\n",
        "  if number % 4 == 0:\n",
        "    continue\n",
        "  print(number)"
      ],
      "metadata": {
        "colab": {
          "base_uri": "https://localhost:8080/"
        },
        "id": "j0ueBQeZi-uA",
        "outputId": "fc994220-0484-43d3-9d40-459c31a2e1c2"
      },
      "execution_count": 13,
      "outputs": [
        {
          "output_type": "stream",
          "name": "stdout",
          "text": [
            "1\n",
            "2\n",
            "3\n",
            "5\n",
            "6\n",
            "7\n",
            "9\n",
            "10\n"
          ]
        }
      ]
    },
    {
      "cell_type": "markdown",
      "source": [
        "### **Question 15: Write a program using a loop that prints numbers from 1 to 20. When it reaches a number divisible by both 3 and 5, break the loop and print \"Found it!\"**"
      ],
      "metadata": {
        "id": "Ge92OfzKjyxz"
      }
    },
    {
      "cell_type": "code",
      "source": [
        "for number in range(1, 21):\n",
        "  if number % 3 == 0 and number % 5 == 0:\n",
        "    print(\"Found it!\")\n",
        "    break\n",
        "  print(number)"
      ],
      "metadata": {
        "colab": {
          "base_uri": "https://localhost:8080/"
        },
        "id": "ZiyGNwT9j54v",
        "outputId": "113fa59c-db37-4e8a-b95c-e43d7d213db8"
      },
      "execution_count": 16,
      "outputs": [
        {
          "output_type": "stream",
          "name": "stdout",
          "text": [
            "1\n",
            "2\n",
            "3\n",
            "4\n",
            "5\n",
            "6\n",
            "7\n",
            "8\n",
            "9\n",
            "10\n",
            "11\n",
            "12\n",
            "13\n",
            "14\n",
            "Found it!\n"
          ]
        }
      ]
    }
  ]
}