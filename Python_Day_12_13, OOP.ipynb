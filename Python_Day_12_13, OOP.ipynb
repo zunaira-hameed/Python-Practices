{
  "nbformat": 4,
  "nbformat_minor": 0,
  "metadata": {
    "colab": {
      "provenance": []
    },
    "kernelspec": {
      "name": "python3",
      "display_name": "Python 3"
    },
    "language_info": {
      "name": "python"
    }
  },
  "cells": [
    {
      "cell_type": "markdown",
      "source": [
        "**27+28-7-2025 | Sunday + Monday | OOP**"
      ],
      "metadata": {
        "id": "8zKR2ib8Ch8T"
      }
    },
    {
      "cell_type": "markdown",
      "source": [
        "# **✅ 15 Python Practice Questions | Topics: OOP Basics, 4 Pillars of OOp**"
      ],
      "metadata": {
        "id": "KDxrCX-RCyI6"
      }
    },
    {
      "cell_type": "markdown",
      "source": [
        "###**Question 1. Create a class named 'Student' with attributes name and age. Instantiate two objects and print their details.**"
      ],
      "metadata": {
        "id": "MF_Bob2SNXHg"
      }
    },
    {
      "cell_type": "code",
      "execution_count": 5,
      "metadata": {
        "id": "S7Za5TYrCaCu",
        "colab": {
          "base_uri": "https://localhost:8080/"
        },
        "outputId": "ba25cfcc-f4da-4644-f0fc-219a6232285c"
      },
      "outputs": [
        {
          "output_type": "stream",
          "name": "stdout",
          "text": [
            "Alice 20\n",
            "Bob 22\n"
          ]
        }
      ],
      "source": [
        "class Student:\n",
        "  def __init__(self, name, age):\n",
        "    self.name = name\n",
        "    self.age = age\n",
        "\n",
        "  def dislay_details(self):\n",
        "    print(self.name, self.age)\n",
        "\n",
        "# Instantiate two objects of the Student class\n",
        "student1 = Student(\"Alice\", 20)\n",
        "student2 = Student(\"Bob\", 22)\n",
        "\n",
        "# Print their details\n",
        "student1.dislay_details()\n",
        "student2.dislay_details()"
      ]
    },
    {
      "cell_type": "markdown",
      "source": [
        "###**Question 2. Define a class 'Car' with an __init__ method that initializes brand, model, and year.**"
      ],
      "metadata": {
        "id": "m7Q1wsotPhO2"
      }
    },
    {
      "cell_type": "code",
      "source": [
        "class Car:\n",
        "  def __init__(self, brand, model, year):\n",
        "    self.brand = brand\n",
        "    self.model = model\n",
        "    self.year = year\n",
        "\n",
        "\n",
        "  def display_details(self):\n",
        "    print(self.brand, self.model, self.year)\n",
        "\n",
        "car1 = Car(\"Toyota\", \"Camry\", 2022)\n",
        "car2 = Car(\"Honda\", \"Civic\", 2021)\n",
        "\n",
        "car1.display_details()\n",
        "car2.display_details()"
      ],
      "metadata": {
        "colab": {
          "base_uri": "https://localhost:8080/"
        },
        "id": "40xurIoHPpQi",
        "outputId": "012169b9-a80a-427e-ba5f-28379a7765d7"
      },
      "execution_count": 7,
      "outputs": [
        {
          "output_type": "stream",
          "name": "stdout",
          "text": [
            "Toyota Camry 2022\n",
            "Honda Civic 2021\n"
          ]
        }
      ]
    },
    {
      "cell_type": "markdown",
      "source": [
        "###**Question 3. Write a class 'Circle' that takes radius as a parameter and calculates area and circumference.**"
      ],
      "metadata": {
        "id": "mVVjUOckRPyU"
      }
    },
    {
      "cell_type": "code",
      "source": [
        "class Circle:\n",
        "  def __init__(self, radius):\n",
        "    self.radius = radius\n",
        "\n",
        "  def area(self):\n",
        "    return 3.14 * self.radius ** 2\n",
        "\n",
        "  def circumference(self):\n",
        "    return 2 * 3.14 * self.radius"
      ],
      "metadata": {
        "id": "wG1MmlBKRXsd"
      },
      "execution_count": 8,
      "outputs": []
    },
    {
      "cell_type": "code",
      "metadata": {
        "colab": {
          "base_uri": "https://localhost:8080/"
        },
        "id": "dff63586",
        "outputId": "3aa73bca-47c9-407c-d2f7-1bc10bc9c190"
      },
      "source": [
        "# Create a Circle object with a radius of 5\n",
        "circle = Circle(5)\n",
        "\n",
        "# Calculate and print the area\n",
        "print(\"Area:\", circle.area())\n",
        "\n",
        "# Calculate and print the circumference\n",
        "print(\"Circumference:\", circle.circumference())"
      ],
      "execution_count": 9,
      "outputs": [
        {
          "output_type": "stream",
          "name": "stdout",
          "text": [
            "Area: 78.5\n",
            "Circumference: 31.400000000000002\n"
          ]
        }
      ]
    },
    {
      "cell_type": "markdown",
      "source": [
        "###**Question 4. Create a class 'Employee' with a method to display employee details.**"
      ],
      "metadata": {
        "id": "NiXc21FcRyWM"
      }
    },
    {
      "cell_type": "code",
      "source": [
        "class Employee:\n",
        "  def __init__(self, name, salary):\n",
        "    self.name = name\n",
        "    self.salary = salary\n",
        "\n",
        "  def display_details(self):\n",
        "    print(self.name, self.salary)\n",
        "    # Create an Employee object\n",
        "employee1 = Employee(\"John Doe\", 50000)\n",
        "\n",
        "# Display the employee's details\n",
        "employee1.display_details()"
      ],
      "metadata": {
        "colab": {
          "base_uri": "https://localhost:8080/"
        },
        "id": "VGMXGjOgR7BW",
        "outputId": "006500f6-3722-4cef-c4ae-a3addf7c7e9d"
      },
      "execution_count": 12,
      "outputs": [
        {
          "output_type": "stream",
          "name": "stdout",
          "text": [
            "John Doe 50000\n"
          ]
        }
      ]
    },
    {
      "cell_type": "markdown",
      "source": [
        "###**Question 5.Implement a class 'Book' to store book title, author and price. Add a method to show details.**"
      ],
      "metadata": {
        "id": "quB52XATSRD1"
      }
    },
    {
      "cell_type": "code",
      "source": [
        "class Book:\n",
        "  def __init__(self, title, author, price):\n",
        "    self.title = title\n",
        "    self.author = author\n",
        "    self.price = price\n",
        "\n",
        "  def display_details(self):\n",
        "    print(self.title, self.author, self.price)\n",
        "\n",
        "# Create a Book object\n",
        "book1 = Book(\"The Great Gatsby\", \"F. Scott Fitzgerald\", 10.99)\n",
        "book1.display_details()"
      ],
      "metadata": {
        "colab": {
          "base_uri": "https://localhost:8080/"
        },
        "id": "zuBO0PmNSWYn",
        "outputId": "6caef5f7-0420-497e-9070-1fe67f3dfaa4"
      },
      "execution_count": 14,
      "outputs": [
        {
          "output_type": "stream",
          "name": "stdout",
          "text": [
            "The Great Gatsby F. Scott Fitzgerald 10.99\n"
          ]
        }
      ]
    },
    {
      "cell_type": "markdown",
      "source": [
        "###**Question 6. Design a class 'Calculator' with methods to add, subtract, multiply and divide two numbers.**"
      ],
      "metadata": {
        "id": "kw7WNvizSkXb"
      }
    },
    {
      "cell_type": "code",
      "source": [
        "class Calculator:\n",
        "  def __init__(self, num1, num2):\n",
        "    self.num1 = num1\n",
        "    self.num2 = num2\n",
        "\n",
        "  def add(self):\n",
        "    return self.num1 + self.num2\n",
        "\n",
        "  def subtract(self):\n",
        "    return self.num1 - self.num2\n",
        "\n",
        "  def multiply(self):\n",
        "    return self.num1 * self.num2\n",
        "\n",
        "  def divide(self):\n",
        "    return self.num1 / self.num2\n",
        "    # Create a Calculator object\n",
        "calculator = Calculator(10, 5)\n",
        "\n",
        "# Perform calculations and print the results\n",
        "print(\"Addition:\", calculator.add())\n",
        "print(\"Subtraction:\", calculator.subtract())\n",
        "print(\"Multiplication:\", calculator.multiply())\n",
        "print(\"Division:\", calculator.divide())"
      ],
      "metadata": {
        "colab": {
          "base_uri": "https://localhost:8080/"
        },
        "id": "1byb_v2SSpI2",
        "outputId": "d60f591a-656c-4c28-f463-2ea09939f3f7"
      },
      "execution_count": 18,
      "outputs": [
        {
          "output_type": "stream",
          "name": "stdout",
          "text": [
            "Addition: 15\n",
            "Subtraction: 5\n",
            "Multiplication: 50\n",
            "Division: 2.0\n"
          ]
        }
      ]
    },
    {
      "cell_type": "markdown",
      "source": [
        "###**Question 7. Create a class 'BankAccount' with deposit and withdraw methods and display current balance.**"
      ],
      "metadata": {
        "id": "5XR5W0TTS941"
      }
    },
    {
      "cell_type": "code",
      "source": [
        "class BankAccount:\n",
        "  def __init__(self, balance=0):\n",
        "    self.balance = balance\n",
        "\n",
        "  def deposit(self, amount):\n",
        "    self.balance += amount\n",
        "\n",
        "  def withdraw(self, amount):\n",
        "    if amount <= self.balance:\n",
        "      self.balance -= amount\n",
        "\n",
        "  def display_balance(self):\n",
        "    print(\"Current balance:\", self.balance)\n",
        "\n",
        "# Create a BankAccount object\n",
        "account = BankAccount(1000)\n",
        "\n",
        "# Deposit some money\n",
        "account.deposit(500)\n",
        "\n",
        "# Withdraw some money\n",
        "account.withdraw(200)\n",
        "\n",
        "# Display the final balance\n",
        "account.display_balance()"
      ],
      "metadata": {
        "colab": {
          "base_uri": "https://localhost:8080/"
        },
        "id": "adb34HV0TBNs",
        "outputId": "9a1966e5-46a1-4493-f63a-719e678abdc3"
      },
      "execution_count": 22,
      "outputs": [
        {
          "output_type": "stream",
          "name": "stdout",
          "text": [
            "Current balance: 1300\n"
          ]
        }
      ]
    },
    {
      "cell_type": "markdown",
      "source": [
        "###**Question 8. Define a class 'Rectangle' with width and height. Add a method to calculate area and perimeter.**"
      ],
      "metadata": {
        "id": "oghOwO6HUJys"
      }
    },
    {
      "cell_type": "code",
      "metadata": {
        "colab": {
          "base_uri": "https://localhost:8080/"
        },
        "id": "09de4d99",
        "outputId": "d8a63126-69b9-47eb-9c40-81fc59107294"
      },
      "source": [
        "class Rectangle:\n",
        "  def __init__(self, width, height):\n",
        "    self.width = width\n",
        "    self.height = height\n",
        "\n",
        "  def area(self):\n",
        "    return self.width * self.height\n",
        "\n",
        "  def perimeter(self):\n",
        "    return 2 * (self.width + self.height)\n",
        "    # Create a Rectangle object\n",
        "rect = Rectangle(10, 5)\n",
        "\n",
        "# Calculate and print the area\n",
        "print(\"Area:\", rect.area())\n",
        "\n",
        "# Calculate and print the perimeter\n",
        "print(\"Perimeter:\", rect.perimeter())"
      ],
      "execution_count": 26,
      "outputs": [
        {
          "output_type": "stream",
          "name": "stdout",
          "text": [
            "Area: 50\n",
            "Perimeter: 30\n"
          ]
        }
      ]
    },
    {
      "cell_type": "markdown",
      "source": [
        "###**Question 9. Write a class 'Person' with a greeting method and test it with different names.**"
      ],
      "metadata": {
        "id": "BfPvkDKxWi4i"
      }
    },
    {
      "cell_type": "code",
      "source": [
        "class Person:\n",
        "  def __init__(self, name):\n",
        "    self.name = name\n",
        "\n",
        "  def greeting(self):\n",
        "    print(f\"Hello, my name is {self.name}.\")\n",
        "\n",
        "# Create a Person object with a name\n",
        "person = Person(\"Alice\")\n",
        "\n",
        "# Call the greeting method\n",
        "person.greeting()"
      ],
      "metadata": {
        "colab": {
          "base_uri": "https://localhost:8080/"
        },
        "id": "MwCpjiKNWolw",
        "outputId": "8c6ea992-a1c2-4e8f-e3bc-b8fab1cfb495"
      },
      "execution_count": 27,
      "outputs": [
        {
          "output_type": "stream",
          "name": "stdout",
          "text": [
            "Hello, my name is Alice.\n"
          ]
        }
      ]
    },
    {
      "cell_type": "markdown",
      "source": [
        "###**Question 10. Make a class 'Laptop' with attributes brand, RAM, and processor. Display them using a method.**"
      ],
      "metadata": {
        "id": "3ClyyoWKWyht"
      }
    },
    {
      "cell_type": "code",
      "source": [
        "class Laptop:\n",
        "  def __init__(self, brand, ram, processor):\n",
        "    self.brand = brand\n",
        "    self.ram = ram\n",
        "    self.processor = processor\n",
        "\n",
        "  def display_details(self):\n",
        "    print(f\"Brand: {self.brand}\")\n",
        "    print(f\"RAM: {self.ram}\")\n",
        "    print(f\"Processor: {self.processor}\")\n",
        "\n",
        "# Create a Laptop object\n",
        "laptop = Laptop(\"Dell\", \"16GB\", \"Intel Core i7\")\n",
        "\n",
        "# Display the laptop's details\n",
        "laptop.display_details()\n"
      ],
      "metadata": {
        "colab": {
          "base_uri": "https://localhost:8080/"
        },
        "id": "RcB-61kDW3qV",
        "outputId": "21b526a0-7755-408e-c71c-ea5427855818"
      },
      "execution_count": 28,
      "outputs": [
        {
          "output_type": "stream",
          "name": "stdout",
          "text": [
            "Brand: Dell\n",
            "RAM: 16GB\n",
            "Processor: Intel Core i7\n"
          ]
        }
      ]
    },
    {
      "cell_type": "markdown",
      "source": [
        "###**Question 11. Create a base class 'Animal' and derived classes 'Dog' and 'Cat'. Demonstrate inheritance.**"
      ],
      "metadata": {
        "id": "pt-2XXTYXJgb"
      }
    },
    {
      "cell_type": "code",
      "source": [
        "class Animal:\n",
        "  def __init__(self, sound):\n",
        "    self.sound = sound\n",
        "\n",
        "  def make_sound(self):\n",
        "    print(self.sound)\n",
        "\n",
        "class Dog(Animal):\n",
        "  def __init__(self):\n",
        "    super().__init__(\"Woof!\")\n",
        "    self.type = \"Dog\"\n",
        "\n",
        "class Cat(Animal):\n",
        "  def __init__(self):\n",
        "    super().__init__(\"Meow!\")\n",
        "    self.type = \"Cat\"\n",
        "# Create a Dog object and call its make_sound method\n",
        "dog = Dog()\n",
        "dog.make_sound()\n",
        "\n",
        "# Create a Cat object and call its make_sound method\n",
        "cat = Cat()\n",
        "cat.make_sound()"
      ],
      "metadata": {
        "colab": {
          "base_uri": "https://localhost:8080/"
        },
        "id": "WxEA-GhAXQIz",
        "outputId": "06406292-be23-4961-c9a9-1ef7acb3bc2a"
      },
      "execution_count": 31,
      "outputs": [
        {
          "output_type": "stream",
          "name": "stdout",
          "text": [
            "Woof!\n",
            "Meow!\n"
          ]
        }
      ]
    },
    {
      "cell_type": "markdown",
      "source": [
        "###**Question 12. Implement method overriding in a class hierarchy involving 'Shape' -> 'Square' and 'Circle'.**"
      ],
      "metadata": {
        "id": "PTpt6qxaX6-g"
      }
    },
    {
      "cell_type": "code",
      "metadata": {
        "colab": {
          "base_uri": "https://localhost:8080/"
        },
        "id": "ea73d626",
        "outputId": "46af8e21-88bc-4b09-866d-c7bdfa994a93"
      },
      "source": [
        "class Shape:\n",
        "  def type_shape(self):\n",
        "    print(\"This is a generic shape.\")\n",
        "class Square(Shape):\n",
        "  def type_shape(self):\n",
        "    print(\"This is a square.\")\n",
        "class Circle(Shape):\n",
        "  def type_shape(self):\n",
        "    print(\"This is a circle.\")\n",
        "\n",
        "# Create a Shape object and call its type_shape method\n",
        "shape = Shape()\n",
        "shape.type_shape()\n",
        "\n",
        "# Create a Square object and call its type_shape method\n",
        "square = Square()\n",
        "square.type_shape()\n",
        "\n",
        "# Create a Circle object and call its type_shape method\n",
        "circle = Circle()\n",
        "circle.type_shape()"
      ],
      "execution_count": 34,
      "outputs": [
        {
          "output_type": "stream",
          "name": "stdout",
          "text": [
            "This is a generic shape.\n",
            "This is a square.\n",
            "This is a circle.\n"
          ]
        }
      ]
    },
    {
      "cell_type": "markdown",
      "source": [
        "###**Question 13. Write a program to demonstrate polymorphism using a base class 'Vehicle' and derived classes.**"
      ],
      "metadata": {
        "id": "fi3wkpUVY8y8"
      }
    },
    {
      "cell_type": "code",
      "source": [
        "class Vehicle:\n",
        "  def drive(self):\n",
        "    pass\n",
        "\n",
        "class Car(Vehicle):\n",
        "  def drive(self):\n",
        "    print(\"The car is being driven.\")\n",
        "\n",
        "class Bicycle(Vehicle):\n",
        "  def drive(self):\n",
        "    print(\"The bicycle is being driven.\")\n",
        "\n",
        "def drive_vehicle(vehicle):\n",
        "  vehicle.drive()\n",
        "\n",
        "# Create a Car object and pass it to the function\n",
        "car = Car()\n",
        "drive_vehicle(car)\n",
        "\n",
        "# Create a Bicycle object and pass it to the function\n",
        "bicycle = Bicycle()\n",
        "drive_vehicle(bicycle)"
      ],
      "metadata": {
        "colab": {
          "base_uri": "https://localhost:8080/"
        },
        "id": "r0l-RN18ZFit",
        "outputId": "58262c3f-88f5-4ff9-afd2-524788aa4ae3"
      },
      "execution_count": 37,
      "outputs": [
        {
          "output_type": "stream",
          "name": "stdout",
          "text": [
            "The car is being driven.\n",
            "The bicycle is being driven.\n"
          ]
        }
      ]
    },
    {
      "cell_type": "markdown",
      "source": [
        "###**Question 14. Use abstract base class 'Payment' with abstract method 'pay'. Create subclasses for CardPayment and CashPayment.**"
      ],
      "metadata": {
        "id": "6_HFZCo9ZhId"
      }
    },
    {
      "cell_type": "code",
      "source": [
        "class Payment:\n",
        "  def pay(self):\n",
        "    pass\n",
        "\n",
        "class CardPayment(Payment):\n",
        "  def pay(self):\n",
        "    print(\"Card payment is being processed.\")\n",
        "\n",
        "class CashPayment(Payment):\n",
        "  def pay(self):\n",
        "    print(\"Cash payment is being processed.\")\n",
        "\n",
        "# Create a CardPayment object and call its pay method\n",
        "card_payment = CardPayment()\n",
        "card_payment.pay()\n",
        "\n",
        "# Create a CashPayment object and call its pay method\n",
        "cash_payment = CashPayment()\n",
        "cash_payment.pay()"
      ],
      "metadata": {
        "colab": {
          "base_uri": "https://localhost:8080/"
        },
        "id": "wr4ZXsY1ZknB",
        "outputId": "73dae971-32a7-4c12-f1e4-3a116b44398e"
      },
      "execution_count": 39,
      "outputs": [
        {
          "output_type": "stream",
          "name": "stdout",
          "text": [
            "Card payment is being processed.\n",
            "Cash payment is being processed.\n"
          ]
        }
      ]
    },
    {
      "cell_type": "markdown",
      "source": [
        "###**Question 15. Demonstrate encapsulation by creating a class 'Account' with private attributes and getter/setter methods.**"
      ],
      "metadata": {
        "id": "6QEU6OpAZ4vR"
      }
    },
    {
      "cell_type": "code",
      "source": [
        "class Account:\n",
        "  def __init__(self, account_number, balance):\n",
        "    self.__account_number = account_number\n",
        "    self.__balance = balance\n",
        "\n",
        "  def get_account_number(self):\n",
        "    return self.__account_number\n",
        "\n",
        "  def get_balance(self):\n",
        "    return self.__balance\n",
        "\n",
        "  def set_balance(self, balance):\n",
        "    if balance >= 0:\n",
        "      self.__balance = balance\n",
        "    else:\n",
        "      print(\"Balance cannot be negative.\")\n",
        "\n",
        "# Create an Account object\n",
        "account = Account(\"123456789\", 1000)\n",
        "\n",
        "# Get and print the account number\n",
        "print(\"Account Number:\", account.get_account_number())\n",
        "\n",
        "# Get and print the balance\n",
        "print(\"Initial Balance:\", account.get_balance())\n",
        "\n",
        "# Set a new balance\n",
        "account.set_balance(1500)\n",
        "print(\"New Balance:\", account.get_balance())\n",
        "\n",
        "# Try to set a negative balance\n",
        "account.set_balance(-500)\n",
        "print(\"Balance after attempting to set a negative value:\", account.get_balance())"
      ],
      "metadata": {
        "colab": {
          "base_uri": "https://localhost:8080/"
        },
        "id": "8wcxyBq5Z_c4",
        "outputId": "486fa85d-2e7b-422e-875a-bd368d4da0cf"
      },
      "execution_count": 42,
      "outputs": [
        {
          "output_type": "stream",
          "name": "stdout",
          "text": [
            "Account Number: 123456789\n",
            "Initial Balance: 1000\n",
            "New Balance: 1500\n",
            "Balance cannot be negative.\n",
            "Balance after attempting to set a negative value: 1500\n"
          ]
        }
      ]
    }
  ]
}