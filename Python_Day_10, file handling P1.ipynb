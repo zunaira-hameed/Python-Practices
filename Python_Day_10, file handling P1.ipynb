{
  "nbformat": 4,
  "nbformat_minor": 0,
  "metadata": {
    "colab": {
      "provenance": []
    },
    "kernelspec": {
      "name": "python3",
      "display_name": "Python 3"
    },
    "language_info": {
      "name": "python"
    }
  },
  "cells": [
    {
      "cell_type": "markdown",
      "source": [
        "**25-7-2025 | Friday | File Handling & Exception Handling**"
      ],
      "metadata": {
        "id": "PaJVIDqARTbU"
      }
    },
    {
      "cell_type": "markdown",
      "source": [
        "# **✅ 15 Python Practice Questions**"
      ],
      "metadata": {
        "id": "j1gcIuGLRe42"
      }
    },
    {
      "cell_type": "markdown",
      "source": [
        "###**Question 1. Write a Python program to create a new file and write some text into it.**"
      ],
      "metadata": {
        "id": "ko8gBBm-RurP"
      }
    },
    {
      "cell_type": "code",
      "execution_count": 1,
      "metadata": {
        "id": "qKVKqCV9PVOs"
      },
      "outputs": [],
      "source": [
        "file = open('myfile.txt', 'w')\n",
        "text = file.write('Hello, World! I am Zunaira')\n",
        "file.close()"
      ]
    },
    {
      "cell_type": "markdown",
      "source": [
        "###**Question 2. Write a program to read the contents of a text file and display them.**"
      ],
      "metadata": {
        "id": "woIgLHsqSFmA"
      }
    },
    {
      "cell_type": "code",
      "source": [
        "file = open('myfile.txt', 'r')\n",
        "text = file.read()\n",
        "print(text)\n",
        "file.close()"
      ],
      "metadata": {
        "colab": {
          "base_uri": "https://localhost:8080/"
        },
        "id": "BONNt4d1SLw8",
        "outputId": "01e14f80-c4da-46ac-fca1-b93be3c370d6"
      },
      "execution_count": 2,
      "outputs": [
        {
          "output_type": "stream",
          "name": "stdout",
          "text": [
            "Hello, World! I am Zunaira\n"
          ]
        }
      ]
    },
    {
      "cell_type": "markdown",
      "source": [
        "###**Question 3. Write a program to append a line to an existing file.**"
      ],
      "metadata": {
        "id": "wAdc_JrISRqm"
      }
    },
    {
      "cell_type": "code",
      "source": [
        "file = open('myfile.txt', 'a')\n",
        "text = file.write('\\nI am a python developer')\n",
        "file.close()"
      ],
      "metadata": {
        "id": "jlUNevBlSVoF"
      },
      "execution_count": 6,
      "outputs": []
    },
    {
      "cell_type": "markdown",
      "source": [
        "###**Question 4. Create a program to count the number of words in a text file.**"
      ],
      "metadata": {
        "id": "8WkuNlHrSd-R"
      }
    },
    {
      "cell_type": "code",
      "source": [
        "file = open('myfile.txt', 'r')\n",
        "text = file.read()\n",
        "words = text.split()\n",
        "file.close()\n",
        "print(len(words))"
      ],
      "metadata": {
        "colab": {
          "base_uri": "https://localhost:8080/"
        },
        "id": "_dDnzHL8SjGj",
        "outputId": "d48778d8-8926-469a-b127-8bb9c016a7f6"
      },
      "execution_count": 29,
      "outputs": [
        {
          "output_type": "stream",
          "name": "stdout",
          "text": [
            "5\n"
          ]
        }
      ]
    },
    {
      "cell_type": "markdown",
      "source": [
        "###**Question 5. Write a program that reads a file and counts the number of lines in it.**"
      ],
      "metadata": {
        "id": "AvyhL4i-Stb8"
      }
    },
    {
      "cell_type": "code",
      "source": [
        "file = open('myfile.txt', 'r')\n",
        "lines = file.readlines()\n",
        "file.close()\n",
        "print(len(lines))"
      ],
      "metadata": {
        "colab": {
          "base_uri": "https://localhost:8080/"
        },
        "id": "AG6A4R89TFhf",
        "outputId": "949ae032-4a6a-457e-fe62-b1d63bc59091"
      },
      "execution_count": 28,
      "outputs": [
        {
          "output_type": "stream",
          "name": "stdout",
          "text": [
            "4\n"
          ]
        }
      ]
    },
    {
      "cell_type": "markdown",
      "source": [
        "###**Question 6. Write a program to copy the contents of one file to another.**"
      ],
      "metadata": {
        "id": "oRHnVmf2Squ_"
      }
    },
    {
      "cell_type": "code",
      "source": [
        "file = open('myfile.txt', 'r')\n",
        "text = file.read()\n",
        "file.close()\n",
        "\n",
        "file = open('newfile.txt', 'w')\n",
        "file.write(text)\n",
        "file.close()"
      ],
      "metadata": {
        "id": "IDV_Gam6Syzs"
      },
      "execution_count": 9,
      "outputs": []
    },
    {
      "cell_type": "markdown",
      "source": [
        "###**Question 7. Write a program to read a file line by line and print each line.**"
      ],
      "metadata": {
        "id": "fLHytjXBTCfl"
      }
    },
    {
      "cell_type": "code",
      "source": [
        "file = open('myfile.txt', 'r')\n",
        "lines = file.readlines()\n",
        "for line in lines:\n",
        "  print(line)\n",
        "file.close()"
      ],
      "metadata": {
        "colab": {
          "base_uri": "https://localhost:8080/"
        },
        "id": "vSSmmj9nTG_U",
        "outputId": "5a009de0-893b-4141-c01e-48a9c0627fd7"
      },
      "execution_count": 10,
      "outputs": [
        {
          "output_type": "stream",
          "name": "stdout",
          "text": [
            "Hello, World! I am Zunaira\n",
            "\n",
            "I am a pytho developer\n",
            "\n",
            "I am a python developer\n"
          ]
        }
      ]
    },
    {
      "cell_type": "markdown",
      "source": [
        "###**Question 8. Write a Python program to reverse the contents of a file.**"
      ],
      "metadata": {
        "id": "dgAc2Go1TNe1"
      }
    },
    {
      "cell_type": "code",
      "source": [
        "file = open('myfile.txt', 'r')\n",
        "text = file.read()\n",
        "file.close()\n",
        "\n",
        "reversed_text = text[::-1]\n",
        "\n",
        "file = open('myfile.txt', 'w')\n",
        "file.write(reversed_text)\n",
        "file.close()"
      ],
      "metadata": {
        "id": "dWX2sElzThBa"
      },
      "execution_count": 11,
      "outputs": []
    },
    {
      "cell_type": "markdown",
      "source": [
        "###**Question 9. Write a program to read a CSV file and display its content.**"
      ],
      "metadata": {
        "id": "lAXwdjHcTpBB"
      }
    },
    {
      "cell_type": "code",
      "source": [
        "file_csv = open('myfile.csv', 'w')\n",
        "file_csv.write('Name, Age, Gender\\n')\n",
        "file_csv.write('Zunaira, 20, Female\\n')\n",
        "file_csv.close()\n",
        "\n",
        "\n",
        "file = open('myfile.csv', 'r')\n",
        "lines = file.readlines()\n",
        "for line in lines:\n",
        "  print(line)\n",
        "file.close()"
      ],
      "metadata": {
        "colab": {
          "base_uri": "https://localhost:8080/"
        },
        "id": "tF2skfCRTuhL",
        "outputId": "af7bce05-d1e0-433c-f35d-51cf957b4be9"
      },
      "execution_count": 14,
      "outputs": [
        {
          "output_type": "stream",
          "name": "stdout",
          "text": [
            "Name, Age, Gender\n",
            "\n",
            "Zunaira, 20, Female\n",
            "\n"
          ]
        }
      ]
    },
    {
      "cell_type": "markdown",
      "source": [
        "###**Question 10. Write a program to merge the contents of two files into a third file.**"
      ],
      "metadata": {
        "id": "jz9CILDEUUiu"
      }
    },
    {
      "cell_type": "code",
      "source": [
        "file_combined = open('combined.txt', 'w')\n",
        "file_combined.write(text)\n",
        "file_combined.write(reversed_text)\n",
        "file_combined.close()"
      ],
      "metadata": {
        "id": "JX64Vv_-UX0U"
      },
      "execution_count": 17,
      "outputs": []
    },
    {
      "cell_type": "markdown",
      "source": [
        "###**Question 11. Create a program that removes all blank lines from a text file.**"
      ],
      "metadata": {
        "id": "0DN5PfrjUtuw"
      }
    },
    {
      "cell_type": "code",
      "source": [
        "file = open('myfile.txt', 'r')\n",
        "lines = file.readlines()\n",
        "file.close()\n",
        "\n",
        "file = open('myfile.txt', 'w')\n",
        "for line in lines:\n",
        "  if line.strip():\n",
        "    file.write(line)\n",
        "file.close()"
      ],
      "metadata": {
        "id": "16u57k1XUxn3"
      },
      "execution_count": 18,
      "outputs": []
    },
    {
      "cell_type": "markdown",
      "source": [
        "###**Question 12. Write a program to find and replace a word in a text file.**"
      ],
      "metadata": {
        "id": "1bli1vIVU5hc"
      }
    },
    {
      "cell_type": "code",
      "source": [
        "file = open('myfile.txt', 'r')\n",
        "text = file.read()\n",
        "file.close()\n",
        "\n",
        "file = open('myfile.txt','w')\n",
        "text = text.replace('python', 'java')\n",
        "file.write(text)\n",
        "file.close()"
      ],
      "metadata": {
        "id": "K32cNzAgU-Sb"
      },
      "execution_count": 20,
      "outputs": []
    },
    {
      "cell_type": "markdown",
      "source": [
        "###**Question 13. Write a Python script to read the last n lines of a file.**"
      ],
      "metadata": {
        "id": "TltiyXLIVSQF"
      }
    },
    {
      "cell_type": "code",
      "source": [
        "file = open('myfile.txt', 'r')\n",
        "lines = file.readlines()\n",
        "file.close()\n",
        "\n",
        "n = 2\n",
        "last_lines = lines[-n:]\n",
        "for line in last_lines:\n",
        "  print(line)"
      ],
      "metadata": {
        "colab": {
          "base_uri": "https://localhost:8080/"
        },
        "id": "x6k9MDFlVWzj",
        "outputId": "08918904-a069-4f5b-c68d-8f4b5f50b77e"
      },
      "execution_count": 25,
      "outputs": [
        {
          "output_type": "stream",
          "name": "stdout",
          "text": [
            "repoleved ohtyp a ma I\n",
            "\n",
            "arianuZ ma I !dlroW ,olleH\n"
          ]
        }
      ]
    },
    {
      "cell_type": "markdown",
      "source": [
        "###**Question 14. Create a program that saves user input to a file until the user types \"exit\".**"
      ],
      "metadata": {
        "id": "VFII5KkYV57o"
      }
    },
    {
      "cell_type": "code",
      "source": [
        "file = open('myfile.txt', 'w')\n",
        "while True:\n",
        "  user_input = input('Enter something: ')\n",
        "  if user_input == 'exit':\n",
        "    break\n",
        "  file.write(user_input + '\\n')\n",
        "file.close()"
      ],
      "metadata": {
        "colab": {
          "base_uri": "https://localhost:8080/"
        },
        "id": "fmLoyGUVV97M",
        "outputId": "d23b764c-ceff-4848-8212-0302670b61e0"
      },
      "execution_count": 26,
      "outputs": [
        {
          "name": "stdout",
          "output_type": "stream",
          "text": [
            "Enter something: zunaira\n",
            "Enter something: haida\n",
            "Enter something: black eagle\n",
            "Enter something: exi\\\n",
            "Enter something: exit\n"
          ]
        }
      ]
    },
    {
      "cell_type": "markdown",
      "source": [
        "###**Question 15. Write a program to check if a file exists and print its size in bytes.**"
      ],
      "metadata": {
        "id": "z14UAy2WWOqj"
      }
    },
    {
      "cell_type": "code",
      "source": [
        "file = open('myfile.txt', 'r')\n",
        "size = len(file.read())\n",
        "file.close()\n",
        "print(size)"
      ],
      "metadata": {
        "colab": {
          "base_uri": "https://localhost:8080/"
        },
        "id": "aI11RAPeWT2p",
        "outputId": "02c97c1e-f9eb-4e11-ec4a-86d5abf68d1e"
      },
      "execution_count": 27,
      "outputs": [
        {
          "output_type": "stream",
          "name": "stdout",
          "text": [
            "31\n"
          ]
        }
      ]
    }
  ]
}