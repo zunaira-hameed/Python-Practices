{
  "nbformat": 4,
  "nbformat_minor": 0,
  "metadata": {
    "colab": {
      "provenance": []
    },
    "kernelspec": {
      "name": "python3",
      "display_name": "Python 3"
    },
    "language_info": {
      "name": "python"
    }
  },
  "cells": [
    {
      "cell_type": "markdown",
      "source": [
        "**24-7-2025 | Thursday | Functions / Methods**"
      ],
      "metadata": {
        "id": "-QdymRVHXOeZ"
      }
    },
    {
      "cell_type": "markdown",
      "source": [
        "# **✅ 15 Python Practice Questions (Topics: Built-in & User defined functions)**"
      ],
      "metadata": {
        "id": "Bx7arbl8XXGv"
      }
    },
    {
      "cell_type": "markdown",
      "source": [
        "###**Question 1. Write a function to return the maximum of three numbers.**"
      ],
      "metadata": {
        "id": "d_Q75D1iXh_j"
      }
    },
    {
      "cell_type": "code",
      "metadata": {
        "colab": {
          "base_uri": "https://localhost:8080/"
        },
        "id": "c271c590",
        "outputId": "e3b8e036-3da0-44fb-d2a3-0e7bb6cfe833"
      },
      "source": [
        "def find_maximum(a, b, c):\n",
        "  \"\"\"\n",
        "  This function takes three numbers as input and returns the maximum among them.\n",
        "  \"\"\"\n",
        "  if a >= b and a >= c:\n",
        "    return a\n",
        "  elif b >= a and b >= c:\n",
        "    return b\n",
        "  else:\n",
        "    return c\n",
        "\n",
        "# Example usage:\n",
        "num1 = 10\n",
        "num2 = 25\n",
        "num3 = 15\n",
        "\n",
        "maximum_number = find_maximum(num1, num2, num3)\n",
        "print(f\"The maximum of {num1}, {num2}, and {num3} is: {maximum_number}\")"
      ],
      "execution_count": null,
      "outputs": [
        {
          "output_type": "stream",
          "name": "stdout",
          "text": [
            "The maximum of 10, 25, and 15 is: 25\n"
          ]
        }
      ]
    },
    {
      "cell_type": "markdown",
      "source": [
        "###**Question 2. Create a function that returns the factorial of a number using recursion.**"
      ],
      "metadata": {
        "id": "TNPpZ64DX7sf"
      }
    },
    {
      "cell_type": "code",
      "source": [
        "def factorial(n):\n",
        "  if n == 0 or n == 1:\n",
        "    return 1\n",
        "  else:\n",
        "    return n * factorial(n - 1)\n",
        "\n",
        "# Example usage:\n",
        "number = 5\n",
        "result = factorial(number)\n",
        "print(f\"The factorial of {number} is: {result}\")"
      ],
      "metadata": {
        "id": "K4FX-XkcYA38",
        "colab": {
          "base_uri": "https://localhost:8080/"
        },
        "outputId": "9fde122d-14ee-41af-b58e-e9062fbc5d25"
      },
      "execution_count": 1,
      "outputs": [
        {
          "output_type": "stream",
          "name": "stdout",
          "text": [
            "The factorial of 5 is: 120\n"
          ]
        }
      ]
    },
    {
      "cell_type": "markdown",
      "source": [
        "###**Question 3: Write a function that checks whether a number is prime.**"
      ],
      "metadata": {
        "id": "SM_n1PrvEYZu"
      }
    },
    {
      "cell_type": "code",
      "source": [
        "def is_prime(n):\n",
        "  \"\"\"\n",
        "  This function checks if a number is prime using a simpler logic.\n",
        "  A prime number is a natural number greater than 1 that has no positive divisors other than 1 and itself.\n",
        "  \"\"\"\n",
        "  if n <= 1:\n",
        "    return False\n",
        "  # We check for factors from 2 up to n-1\n",
        "  for i in range(2, n):\n",
        "    if n % i == 0:\n",
        "      # If we find a factor, it's not a prime number\n",
        "      return False\n",
        "  # If no factors were found, it's a prime number\n",
        "  return True\n",
        "\n",
        "# Example usage:\n",
        "number = 5\n",
        "if is_prime(number):\n",
        "  print(f\"{number} is a prime number.\")\n",
        "else:\n",
        "  print(f\"{number} is not a prime number.\")"
      ],
      "metadata": {
        "colab": {
          "base_uri": "https://localhost:8080/"
        },
        "id": "uBG9XApcEh1v",
        "outputId": "0b380de8-7936-4654-9d49-cb125945b1a2"
      },
      "execution_count": 7,
      "outputs": [
        {
          "output_type": "stream",
          "name": "stdout",
          "text": [
            "5 is a prime number.\n"
          ]
        }
      ]
    },
    {
      "cell_type": "markdown",
      "source": [
        "###**Question 4: Define a function to reverse a given string.**"
      ],
      "metadata": {
        "id": "knC7E3oiHveh"
      }
    },
    {
      "cell_type": "code",
      "source": [],
      "metadata": {
        "id": "UGLtm1QrH72y"
      },
      "execution_count": null,
      "outputs": []
    },
    {
      "cell_type": "code",
      "metadata": {
        "colab": {
          "base_uri": "https://localhost:8080/"
        },
        "id": "5df3c2f2",
        "outputId": "7fcf7b8e-ec72-4e75-c05d-10f72f0cb829"
      },
      "source": [
        "def reverse_string(s):\n",
        "  \"\"\"\n",
        "  This function takes a string as input and returns the reversed string.\n",
        "  \"\"\"\n",
        "  return s[::-1]\n",
        "\n",
        "# Example usage:\n",
        "original_string = \"hello\"\n",
        "reversed_str = reverse_string(original_string)\n",
        "print(f\"The original string is: {original_string}\")\n",
        "print(f\"The reversed string is: {reversed_str}\")"
      ],
      "execution_count": 8,
      "outputs": [
        {
          "output_type": "stream",
          "name": "stdout",
          "text": [
            "The original string is: hello\n",
            "The reversed string is: olleh\n"
          ]
        }
      ]
    },
    {
      "cell_type": "markdown",
      "source": [
        "###**Question 5. Write a function that takes a list and returns the sum of all elements.**"
      ],
      "metadata": {
        "id": "rkN52lS9IOmS"
      }
    },
    {
      "cell_type": "code",
      "metadata": {
        "colab": {
          "base_uri": "https://localhost:8080/"
        },
        "id": "fd6e6040",
        "outputId": "b6ab2337-212a-48dc-e72d-15fe3775d183"
      },
      "source": [
        "def sum_list_elements(input_list):\n",
        "  \"\"\"\n",
        "  This function takes a list of numbers and returns their sum.\n",
        "  \"\"\"\n",
        "  return sum(input_list)\n",
        "\n",
        "# Example usage:\n",
        "my_list = [1, 2, 3, 4, 5]\n",
        "total_sum = sum_list_elements(my_list)\n",
        "print(f\"The sum of the elements in the list is: {total_sum}\")"
      ],
      "execution_count": 9,
      "outputs": [
        {
          "output_type": "stream",
          "name": "stdout",
          "text": [
            "The sum of the elements in the list is: 15\n"
          ]
        }
      ]
    },
    {
      "cell_type": "markdown",
      "source": [
        "###**Question 6. Create a function to check if a string is a palindrome.**"
      ],
      "metadata": {
        "id": "AGu3G_3vIemZ"
      }
    },
    {
      "cell_type": "code",
      "source": [],
      "metadata": {
        "id": "1857kYflIiWP"
      },
      "execution_count": null,
      "outputs": []
    },
    {
      "cell_type": "code",
      "metadata": {
        "colab": {
          "base_uri": "https://localhost:8080/"
        },
        "id": "c804d06e",
        "outputId": "95a65bb1-c661-4dce-f11f-c6bdf35b679e"
      },
      "source": [
        "def is_palindrome(s):\n",
        "  \"\"\"\n",
        "  This function checks if a string is a palindrome.\n",
        "  A palindrome is a string that reads the same forwards and backward.\n",
        "  \"\"\"\n",
        "  # We can convert the string to lowercase to make the check case-insensitive\n",
        "  s = s.lower()\n",
        "  # Then we compare the string with its reverse\n",
        "  return s == s[::-1]\n",
        "\n",
        "# Example usage:\n",
        "string1 = \"madam\"\n",
        "string2 = \"hello\"\n",
        "\n",
        "if is_palindrome(string1):\n",
        "  print(f\"'{string1}' is a palindrome.\")\n",
        "else:\n",
        "  print(f\"'{string1}' is not a palindrome.\")\n",
        "\n",
        "if is_palindrome(string2):\n",
        "  print(f\"'{string2}' is a palindrome.\")\n",
        "else:\n",
        "  print(f\"'{string2}' is not a palindrome.\")"
      ],
      "execution_count": 10,
      "outputs": [
        {
          "output_type": "stream",
          "name": "stdout",
          "text": [
            "'madam' is a palindrome.\n",
            "'hello' is not a palindrome.\n"
          ]
        }
      ]
    },
    {
      "cell_type": "markdown",
      "source": [
        "###**Question 7. Write a function to calculate the area of a circle given the radius.**"
      ],
      "metadata": {
        "id": "dk61iQ6lIxrk"
      }
    },
    {
      "cell_type": "code",
      "metadata": {
        "colab": {
          "base_uri": "https://localhost:8080/"
        },
        "id": "497d1462",
        "outputId": "c80134dd-5a18-4070-9e7d-c37ea784c9be"
      },
      "source": [
        "import math\n",
        "\n",
        "def circle_area(radius):\n",
        "  \"\"\"\n",
        "  This function calculates the area of a circle given its radius.\n",
        "  \"\"\"\n",
        "  return math.pi * (radius ** 2)\n",
        "\n",
        "# Example usage:\n",
        "radius = 5\n",
        "area = circle_area(radius)\n",
        "print(f\"The area of a circle with radius {radius} is: {area}\")"
      ],
      "execution_count": 11,
      "outputs": [
        {
          "output_type": "stream",
          "name": "stdout",
          "text": [
            "The area of a circle with radius 5 is: 78.53981633974483\n"
          ]
        }
      ]
    },
    {
      "cell_type": "markdown",
      "source": [
        "###**Question 8. Create a function to return the Fibonacci sequence up to `n` terms.**"
      ],
      "metadata": {
        "id": "hYB10xweJH0I"
      }
    },
    {
      "cell_type": "code",
      "metadata": {
        "colab": {
          "base_uri": "https://localhost:8080/"
        },
        "id": "7816ba31",
        "outputId": "bdd411e6-c0ed-4d85-f32a-114bd0d35d99"
      },
      "source": [
        "def fibonacci_sequence(n):\n",
        "  \"\"\"\n",
        "  This function returns the Fibonacci sequence up to n terms.\n",
        "  \"\"\"\n",
        "  if n <= 0:\n",
        "    return []\n",
        "  elif n == 1:\n",
        "    return [0]\n",
        "  else:\n",
        "    list_fib = [0, 1]\n",
        "    while len(list_fib) < n:\n",
        "      next_fib = list_fib[-1] + list_fib[-2]\n",
        "      list_fib.append(next_fib)\n",
        "    return list_fib\n",
        "\n",
        "# Example usage:\n",
        "num_terms = 10\n",
        "fib_seq = fibonacci_sequence(num_terms)\n",
        "print(f\"The Fibonacci sequence up to {num_terms} terms is: {fib_seq}\")"
      ],
      "execution_count": 12,
      "outputs": [
        {
          "output_type": "stream",
          "name": "stdout",
          "text": [
            "The Fibonacci sequence up to 10 terms is: [0, 1, 1, 2, 3, 5, 8, 13, 21, 34]\n"
          ]
        }
      ]
    },
    {
      "cell_type": "markdown",
      "source": [
        "###**Question 9. Write a function that takes a list of numbers and returns only even numbers.**"
      ],
      "metadata": {
        "id": "TrJBBqnJJx8S"
      }
    },
    {
      "cell_type": "code",
      "metadata": {
        "colab": {
          "base_uri": "https://localhost:8080/"
        },
        "id": "768c3f93",
        "outputId": "39c89ccb-c2a0-4b16-e2f4-a7aac55a2a33"
      },
      "source": [
        "def get_even_numbers(numbers):\n",
        "  \"\"\"\n",
        "  This function takes a list of numbers and returns a new list containing only the even numbers.\n",
        "  \"\"\"\n",
        "  return [number for number in numbers if number % 2 == 0]\n",
        "\n",
        "# Example usage:\n",
        "my_numbers = [1, 2, 3, 4, 5, 6, 7, 8, 9, 10]\n",
        "even_list = get_even_numbers(my_numbers)\n",
        "print(f\"The even numbers in the list are: {even_list}\")"
      ],
      "execution_count": 14,
      "outputs": [
        {
          "output_type": "stream",
          "name": "stdout",
          "text": [
            "The even numbers in the list are: [2, 4, 6, 8, 10]\n"
          ]
        }
      ]
    },
    {
      "cell_type": "markdown",
      "source": [
        "###**Question 10. Define a function to count the number of vowels in a given string.**"
      ],
      "metadata": {
        "id": "gZxb8EH-LFBe"
      }
    },
    {
      "cell_type": "code",
      "source": [
        "def get_string(string):\n",
        "  vowels = 'aeiouAEIOU'\n",
        "  count = 0\n",
        "  for char in string:\n",
        "    if char in vowels:\n",
        "      count += 1\n",
        "  return count\n",
        "\n",
        "# Example usage:\n",
        "my_string = \"Hello, World!\"\n",
        "vowel_count = get_string(my_string)\n",
        "print(f\"The number of vowels in the string is: {vowel_count}\")"
      ],
      "metadata": {
        "colab": {
          "base_uri": "https://localhost:8080/"
        },
        "id": "InJoGLOILKbX",
        "outputId": "fdcce984-80dc-4354-aecd-ef4bda4c8021"
      },
      "execution_count": 17,
      "outputs": [
        {
          "output_type": "stream",
          "name": "stdout",
          "text": [
            "The number of vowels in the string is: 3\n"
          ]
        }
      ]
    },
    {
      "cell_type": "markdown",
      "source": [
        "###**Question 11. Write a function to find the GCD (Greatest Common Divisor) of two numbers.**"
      ],
      "metadata": {
        "id": "6XaGr0waLlQb"
      }
    },
    {
      "cell_type": "code",
      "metadata": {
        "colab": {
          "base_uri": "https://localhost:8080/"
        },
        "id": "342a8200",
        "outputId": "2f545efd-e493-44be-f8d9-3236506b90aa"
      },
      "source": [
        "def find_gcd(a, b):\n",
        "  \"\"\"\n",
        "  This function finds the Greatest Common Divisor (GCD) of two numbers\n",
        "  using a simple iterative approach.\n",
        "  \"\"\"\n",
        "  gcd = 1\n",
        "  for i in range(1, min(a, b) + 1):\n",
        "    if a % i == 0 and b % i == 0:\n",
        "      gcd = i\n",
        "  return gcd\n",
        "\n",
        "# Example usage:\n",
        "num1 = 54\n",
        "num2 = 24\n",
        "result = find_gcd(num1, num2)\n",
        "print(f\"The GCD of {num1} and {num2} is: {result}\")"
      ],
      "execution_count": 18,
      "outputs": [
        {
          "output_type": "stream",
          "name": "stdout",
          "text": [
            "The GCD of 54 and 24 is: 6\n"
          ]
        }
      ]
    },
    {
      "cell_type": "markdown",
      "source": [
        "###**Question 12. Create a function to convert Celsius to Fahrenheit.**"
      ],
      "metadata": {
        "id": "Bwj0fzztL5sH"
      }
    },
    {
      "cell_type": "code",
      "metadata": {
        "colab": {
          "base_uri": "https://localhost:8080/"
        },
        "id": "9dae05a5",
        "outputId": "25036013-a2ba-402b-ec5c-ef98aa796e6c"
      },
      "source": [
        "def celsius_to_fahrenheit(celsius):\n",
        "  \"\"\"\n",
        "  This function converts a temperature from Celsius to Fahrenheit.\n",
        "  \"\"\"\n",
        "  return (celsius * 9/5) + 32\n",
        "\n",
        "# Example usage:\n",
        "celsius_temp = 25\n",
        "fahrenheit_temp = celsius_to_fahrenheit(celsius_temp)\n",
        "print(f\"{celsius_temp}°C is equal to {fahrenheit_temp}°F\")"
      ],
      "execution_count": 19,
      "outputs": [
        {
          "output_type": "stream",
          "name": "stdout",
          "text": [
            "25°C is equal to 77.0°F\n"
          ]
        }
      ]
    },
    {
      "cell_type": "markdown",
      "source": [
        "###**Question 13. Define a function that accepts a sentence and returns the word with the maximum length.**"
      ],
      "metadata": {
        "id": "3W_c1MRzMMV3"
      }
    },
    {
      "cell_type": "code",
      "metadata": {
        "colab": {
          "base_uri": "https://localhost:8080/"
        },
        "id": "0aac9969",
        "outputId": "cb541470-63a4-4ef9-9d63-e5f7f74336f0"
      },
      "source": [
        "def find_longest_word(sentence):\n",
        "  \"\"\"\n",
        "  This function takes a sentence and returns the word with the maximum length.\n",
        "  \"\"\"\n",
        "  words = sentence.split()\n",
        "  if not words:\n",
        "    return None\n",
        "  return max(words, key=len)\n",
        "\n",
        "# Example usage:\n",
        "my_sentence = \"This is a sample sentence to test the function\"\n",
        "longest_word = find_longest_word(my_sentence)\n",
        "print(f\"The longest word in the sentence is: '{longest_word}'\")"
      ],
      "execution_count": 20,
      "outputs": [
        {
          "output_type": "stream",
          "name": "stdout",
          "text": [
            "The longest word in the sentence is: 'sentence'\n"
          ]
        }
      ]
    },
    {
      "cell_type": "markdown",
      "source": [
        "###**Question 14. Write a function that accepts a number and returns whether it is an Armstrong number.**"
      ],
      "metadata": {
        "id": "qLdZKeH0MY_Z"
      }
    },
    {
      "cell_type": "code",
      "source": [
        "def is_armstrong_number(num):\n",
        "  \"\"\"\n",
        "  This function checks if a number is an Armstrong number using a more procedural approach.\n",
        "  An Armstrong number is a number that is equal to the sum of its own digits\n",
        "  each raised to the power of the number of digits.\n",
        "  \"\"\"\n",
        "  # Convert the number to a string to easily access its digits and count them\n",
        "  s_num = str(num)\n",
        "  num_digits = len(s_num)\n",
        "\n",
        "  # Initialize a variable to store the sum\n",
        "  armstrong_sum = 0\n",
        "\n",
        "  # Iterate through each digit in the number\n",
        "  for digit_char in s_num:\n",
        "    # Convert the character back to an integer\n",
        "    digit = int(digit_char)\n",
        "    # Raise the digit to the power of the number of digits\n",
        "    # and add it to the sum\n",
        "    armstrong_sum += digit ** num_digits\n",
        "\n",
        "  # Check if the calculated sum is equal to the original number\n",
        "  if armstrong_sum == num:\n",
        "    return True\n",
        "  else:\n",
        "    return False\n",
        "\n",
        "# Example usage:\n",
        "number1 = 153\n",
        "number2 = 123\n",
        "\n",
        "if is_armstrong_number(number1):\n",
        "  print(f\"{number1} is an Armstrong number.\")\n",
        "else:\n",
        "  print(f\"{number1} is not an Armstrong number.\")\n",
        "\n",
        "if is_armstrong_number(number2):\n",
        "  print(f\"{number2} is an Armstrong number.\")\n",
        "else:\n",
        "  print(f\"{number2} is not an Armstrong number.\")"
      ],
      "metadata": {
        "colab": {
          "base_uri": "https://localhost:8080/"
        },
        "id": "a6lUV4ISMfUb",
        "outputId": "a5c382d9-6439-40c2-97e5-abcf5c5a91c1"
      },
      "execution_count": 21,
      "outputs": [
        {
          "output_type": "stream",
          "name": "stdout",
          "text": [
            "153 is an Armstrong number.\n",
            "123 is not an Armstrong number.\n"
          ]
        }
      ]
    },
    {
      "cell_type": "markdown",
      "source": [
        "###**Question 15. Create a function to check if two strings are anagrams.**"
      ],
      "metadata": {
        "id": "ffFAC3r7Ms1Y"
      }
    },
    {
      "cell_type": "code",
      "metadata": {
        "colab": {
          "base_uri": "https://localhost:8080/"
        },
        "id": "79b81f7d",
        "outputId": "94a8a8b1-7940-40d6-e63e-adc1d3b21816"
      },
      "source": [
        "def are_anagrams(s1, s2):\n",
        "  \"\"\"\n",
        "  This function checks if two strings are anagrams.\n",
        "  \"\"\"\n",
        "  # First, we remove any spaces and convert to lowercase\n",
        "  # to ensure the comparison is not case-sensitive and ignores spaces.\n",
        "  s1 = s1.replace(\" \", \"\").lower()\n",
        "  s2 = s2.replace(\" \", \"\").lower()\n",
        "\n",
        "  # Then, we check if the sorted versions of the strings are the same.\n",
        "  return sorted(s1) == sorted(s2)\n",
        "\n",
        "# Example usage:\n",
        "string1 = \"listen\"\n",
        "string2 = \"silent\"\n",
        "string3 = \"hello\"\n",
        "string4 = \"world\"\n",
        "\n",
        "if are_anagrams(string1, string2):\n",
        "  print(f\"'{string1}' and '{string2}' are anagrams.\")\n",
        "else:\n",
        "  print(f\"'{string1}' and '{string2}' are not anagrams.\")\n",
        "\n",
        "if are_anagrams(string3, string4):\n",
        "  print(f\"'{string3}' and '{string4}' are anagrams.\")\n",
        "else:\n",
        "  print(f\"'{string3}' and '{string4}' are not anagrams.\")"
      ],
      "execution_count": 22,
      "outputs": [
        {
          "output_type": "stream",
          "name": "stdout",
          "text": [
            "'listen' and 'silent' are anagrams.\n",
            "'hello' and 'world' are not anagrams.\n"
          ]
        }
      ]
    }
  ]
}