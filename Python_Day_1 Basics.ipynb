{
  "nbformat": 4,
  "nbformat_minor": 0,
  "metadata": {
    "colab": {
      "provenance": []
    },
    "kernelspec": {
      "name": "python3",
      "display_name": "Python 3"
    },
    "language_info": {
      "name": "python"
    }
  },
  "cells": [
    {
      "cell_type": "markdown",
      "source": [
        "**15-7-2025 | Tuesday | Introduction to Python**"
      ],
      "metadata": {
        "id": "QHUIG4-dLP7B"
      }
    },
    {
      "cell_type": "markdown",
      "source": [
        "# **✅ 15 Python Practice Questions (Topic Print, comments, escape sequence)**"
      ],
      "metadata": {
        "id": "D1_OuGMaLLOM"
      }
    },
    {
      "cell_type": "markdown",
      "source": [
        "### **Question 1. What is Python and what are its key features?**"
      ],
      "metadata": {
        "id": "EIREF2KhLgOU"
      }
    },
    {
      "cell_type": "markdown",
      "source": [
        "## **Answer:**\n",
        "####**Python:**\n",
        "Python is a high-level programming language, know for is readability and ease to use.\n",
        "It is used in Web development, backend development, app development, Machine Learning, Data Science and Data Analysis.\n",
        "####**Key Features:**\n",
        "    1. Simple syntax\n",
        "    2. Extensive Libraries\n",
        "    3. OOP support\n",
        "    4. Cross platform compatible."
      ],
      "metadata": {
        "id": "Dy6gmOFvMtA7"
      }
    },
    {
      "cell_type": "markdown",
      "source": [
        "### **Question 2. Write a Python program to print your full name on the screen.**"
      ],
      "metadata": {
        "id": "NUbsnan4N-YB"
      }
    },
    {
      "cell_type": "code",
      "execution_count": 1,
      "metadata": {
        "colab": {
          "base_uri": "https://localhost:8080/"
        },
        "id": "tRJ0j9hMK60w",
        "outputId": "70197dab-a5a3-48e0-b875-2a0a7152cef0"
      },
      "outputs": [
        {
          "output_type": "stream",
          "name": "stdout",
          "text": [
            "Zunaira Hameed\n"
          ]
        }
      ],
      "source": [
        "my_name = \"Zunaira Hameed\"\n",
        "print(my_name)"
      ]
    },
    {
      "cell_type": "markdown",
      "source": [
        "### **Question 3. What is the syntax of the print() function in Python?**"
      ],
      "metadata": {
        "id": "B9vzN-ZbOU4t"
      }
    },
    {
      "cell_type": "code",
      "source": [
        "import sys\n",
        "x=10\n",
        "print(x, sep=' ', end='\\n', file=sys.stdout, flush=False)"
      ],
      "metadata": {
        "colab": {
          "base_uri": "https://localhost:8080/"
        },
        "id": "Wm_xvVjlObEC",
        "outputId": "96f32dc9-bd6f-4510-8b35-b6943dee0d94"
      },
      "execution_count": 7,
      "outputs": [
        {
          "output_type": "stream",
          "name": "stdout",
          "text": [
            "10\n"
          ]
        }
      ]
    },
    {
      "cell_type": "markdown",
      "source": [
        "### **Question 4. How do you print multiple values in a single print() call?**"
      ],
      "metadata": {
        "id": "KgrppfY6QBmO"
      }
    },
    {
      "cell_type": "code",
      "source": [
        "# We can print multiple strings by using separator like comma, below\"\n",
        "print(\"Zunaira\", \"Hameed\", sep=\",\")"
      ],
      "metadata": {
        "colab": {
          "base_uri": "https://localhost:8080/"
        },
        "id": "-DwPFRifQHpK",
        "outputId": "05cd02eb-9638-4676-9d7b-1587f3b3dc43"
      },
      "execution_count": 8,
      "outputs": [
        {
          "output_type": "stream",
          "name": "stdout",
          "text": [
            "Zunaira,Hameed\n"
          ]
        }
      ]
    },
    {
      "cell_type": "markdown",
      "source": [
        "### **Question 5. What is a comment in Python and how is it used?**"
      ],
      "metadata": {
        "id": "mAa0HfADQhaq"
      }
    },
    {
      "cell_type": "markdown",
      "source": [
        "Comments in python are used to describe code, it explains the basic logic behind why a code line was written. We can write comments by using:\n",
        "1. #\n",
        "2. ''' '''\n",
        "3. \"\"\" \"\"\""
      ],
      "metadata": {
        "id": "Pz_qFSFvQnvb"
      }
    },
    {
      "cell_type": "markdown",
      "source": [
        "### **Question 6. What’s the difference between single-line and multi-line comments in Python?**"
      ],
      "metadata": {
        "id": "vkgtodddRJ31"
      }
    },
    {
      "cell_type": "markdown",
      "source": [
        "**Single Line:** Begin with # symbol, used for one line comment\n",
        "\n",
        "**Multiple Line:** Begin with \"\"\" or ''', used for multiple lines/"
      ],
      "metadata": {
        "id": "hgOIvmD3RYhh"
      }
    },
    {
      "cell_type": "code",
      "source": [
        "# Single line comment\n",
        "\"\"\"This is multiple line comment.\n",
        "My name is Zunaira\"\"\""
      ],
      "metadata": {
        "colab": {
          "base_uri": "https://localhost:8080/",
          "height": 35
        },
        "id": "GmKIiMOGRWG6",
        "outputId": "fa91b16c-8c13-495c-9fdf-a3876c3b1fa3"
      },
      "execution_count": 10,
      "outputs": [
        {
          "output_type": "execute_result",
          "data": {
            "text/plain": [
              "'This is multiple line comment.\\nMy name is Zunaira'"
            ],
            "application/vnd.google.colaboratory.intrinsic+json": {
              "type": "string"
            }
          },
          "metadata": {},
          "execution_count": 10
        }
      ]
    },
    {
      "cell_type": "markdown",
      "source": [
        "### **Question 7. Add a comment in Python explaining the purpose of a program.**"
      ],
      "metadata": {
        "id": "1K427ym9SjlG"
      }
    },
    {
      "cell_type": "code",
      "source": [
        "my_name = \"Zunaira Hameed\" # This is my name\n",
        "print(my_name)"
      ],
      "metadata": {
        "colab": {
          "base_uri": "https://localhost:8080/"
        },
        "id": "2TtjqXT6Sp2M",
        "outputId": "5e2dcb43-b164-4a1f-ee6c-e4548e28fdb9"
      },
      "execution_count": 11,
      "outputs": [
        {
          "output_type": "stream",
          "name": "stdout",
          "text": [
            "Zunaira Hameed\n"
          ]
        }
      ]
    },
    {
      "cell_type": "markdown",
      "source": [
        "### **Question 8. What are escape characters in Python? Give examples.**"
      ],
      "metadata": {
        "id": "hFmpdiPqS1g1"
      }
    },
    {
      "cell_type": "code",
      "source": [
        "# 1. \\n for New Line\n",
        "print(\"Hello \\n Zunaira\")\n",
        "\n",
        "# 2. \\t for horizontal tab\n",
        "print(\"Hello \\t Zunaira\")\n",
        "\n",
        "# 3. \\' for single inside the string\n",
        "print('Hello \\'Zunaira\\'')\n",
        "\n",
        "# 4. \\\" for double inside the string\n",
        "print(\"Hello \\\"Zunaira\\\"\")"
      ],
      "metadata": {
        "colab": {
          "base_uri": "https://localhost:8080/"
        },
        "id": "0GBpRDQ7S4LO",
        "outputId": "1cccfdc5-46f0-4b3b-c4d2-c0c6dbab748f"
      },
      "execution_count": 12,
      "outputs": [
        {
          "output_type": "stream",
          "name": "stdout",
          "text": [
            "Hello \n",
            " Zunaira\n",
            "Hello \t Zunaira\n",
            "Hello 'Zunaira'\n",
            "Hello \"Zunaira\"\n"
          ]
        }
      ]
    },
    {
      "cell_type": "markdown",
      "source": [
        "### **Question 9. Print the sentence: He said, \"Python is great!\" using escape characters.**"
      ],
      "metadata": {
        "id": "3XXcKlONVa6y"
      }
    },
    {
      "cell_type": "code",
      "source": [
        "my_str = \"Python is great!\"\n",
        "print(\"He said, \\\"Python is great!\\\" \")"
      ],
      "metadata": {
        "colab": {
          "base_uri": "https://localhost:8080/"
        },
        "id": "3JzfNQkcVeTn",
        "outputId": "1a6cf1b8-e256-41f2-c31a-24bb8eae921e"
      },
      "execution_count": 16,
      "outputs": [
        {
          "output_type": "stream",
          "name": "stdout",
          "text": [
            "He said, \"Python is great!\" \n"
          ]
        }
      ]
    },
    {
      "cell_type": "markdown",
      "source": [
        "### **Question 10. Print the following using escape characters:**\n",
        "###**Hello**\n",
        "### **World!**"
      ],
      "metadata": {
        "id": "KtkYlk-dWMi4"
      }
    },
    {
      "cell_type": "code",
      "source": [
        "print(\"Hello \\nWorld!\")"
      ],
      "metadata": {
        "colab": {
          "base_uri": "https://localhost:8080/"
        },
        "id": "IwuGxiWcWgcx",
        "outputId": "bea4c858-0f93-4ea1-d2f0-52b9e5be51fe"
      },
      "execution_count": 18,
      "outputs": [
        {
          "output_type": "stream",
          "name": "stdout",
          "text": [
            "Hello \n",
            "World!\n"
          ]
        }
      ]
    },
    {
      "cell_type": "markdown",
      "source": [
        "### **Question 11. Print a tabbed table using \\t like:**\n",
        "### **Name       Age          City**\n",
        "### **Ali        25           Lahore**"
      ],
      "metadata": {
        "id": "nBSZCEKMWqgj"
      }
    },
    {
      "cell_type": "code",
      "source": [
        "print(\"Name\\tAge\\tCity\")\n",
        "print(\"Ali\\t25\\tLahore\")"
      ],
      "metadata": {
        "colab": {
          "base_uri": "https://localhost:8080/"
        },
        "id": "RQJceJiNW9a6",
        "outputId": "8dee5a50-5a14-419c-9b45-d0561e1bf83f"
      },
      "execution_count": 19,
      "outputs": [
        {
          "output_type": "stream",
          "name": "stdout",
          "text": [
            "Name\tAge\tCity\n",
            "Ali\t25\tLahore\n"
          ]
        }
      ]
    },
    {
      "cell_type": "markdown",
      "source": [
        "### **Question 12. What does \\n do in a print() statement?**"
      ],
      "metadata": {
        "id": "G6c2vdItXEwE"
      }
    },
    {
      "cell_type": "markdown",
      "source": [
        "**Answer:**\n",
        "\n",
        "\n",
        "\\n in a print() statement adds a new line, breaking the text to the next line."
      ],
      "metadata": {
        "id": "Sx17MmKVXOVp"
      }
    },
    {
      "cell_type": "markdown",
      "source": [
        "### **Question 13. How do you include a backslash \\ in your output using print()?**"
      ],
      "metadata": {
        "id": "RQluIl2tXbGi"
      }
    },
    {
      "cell_type": "code",
      "source": [
        "# To include a backslash \\ in your output using print(), use a double backslash \\\\ like this:\n",
        "print(\"This is a backslash \\\\\")"
      ],
      "metadata": {
        "colab": {
          "base_uri": "https://localhost:8080/"
        },
        "id": "CZMV86itXIcA",
        "outputId": "6298df7e-abed-442b-d40e-f62854199804"
      },
      "execution_count": 20,
      "outputs": [
        {
          "output_type": "stream",
          "name": "stdout",
          "text": [
            "This is a backslash \\\n"
          ]
        }
      ]
    },
    {
      "cell_type": "markdown",
      "source": [
        "### **Question 14. What happens if you forget to close a string with a quote?**"
      ],
      "metadata": {
        "id": "G7SKP2rYXxNP"
      }
    },
    {
      "cell_type": "markdown",
      "source": [
        "**Answer:**\n",
        "\n",
        "Forgetting to close a string with a quote causes a SyntaxError due to an unterminated string."
      ],
      "metadata": {
        "id": "6TikikpVX2ZJ"
      }
    },
    {
      "cell_type": "markdown",
      "source": [
        "### **Question 15. Write a single-line Python program that prints:**\n",
        "**This is Python!** on the first line and **Let's code.** on the second line using \\n."
      ],
      "metadata": {
        "id": "dZjtLusOYD0s"
      }
    },
    {
      "cell_type": "code",
      "source": [
        "print(\"This is Python! \\nand Let's code.\")"
      ],
      "metadata": {
        "colab": {
          "base_uri": "https://localhost:8080/"
        },
        "id": "_r_RHwrgX1qh",
        "outputId": "b3a469e3-4df1-4107-8f62-30a9ab91d61a"
      },
      "execution_count": 21,
      "outputs": [
        {
          "output_type": "stream",
          "name": "stdout",
          "text": [
            "This is Python! \n",
            "and Let's code.\n"
          ]
        }
      ]
    }
  ]
}