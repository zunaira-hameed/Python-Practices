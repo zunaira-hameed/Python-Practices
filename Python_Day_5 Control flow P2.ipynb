{
  "nbformat": 4,
  "nbformat_minor": 0,
  "metadata": {
    "colab": {
      "provenance": []
    },
    "kernelspec": {
      "name": "python3",
      "display_name": "Python 3"
    },
    "language_info": {
      "name": "python"
    }
  },
  "cells": [
    {
      "cell_type": "markdown",
      "source": [
        "**19-7-2025 | Saturday | Control Flow Part 2**"
      ],
      "metadata": {
        "id": "qOl7hhwNrUnu"
      }
    },
    {
      "cell_type": "markdown",
      "source": [
        "# **✅ 15 Python Practice Questions (Topics: for loop, while loop, range(), print patterns)**"
      ],
      "metadata": {
        "id": "DWOxZi6krY8e"
      }
    },
    {
      "cell_type": "markdown",
      "source": [
        "###**Questions 1: Write a program using a `for` loop and `range()` to print numbers from 1 to 10.**"
      ],
      "metadata": {
        "id": "EaVciWcgrmi-"
      }
    },
    {
      "cell_type": "code",
      "execution_count": 1,
      "metadata": {
        "colab": {
          "base_uri": "https://localhost:8080/"
        },
        "id": "UONAUwJRrIMm",
        "outputId": "24fead8e-f480-47d4-8368-47f9d216017f"
      },
      "outputs": [
        {
          "output_type": "stream",
          "name": "stdout",
          "text": [
            "1\n",
            "2\n",
            "3\n",
            "4\n",
            "5\n",
            "6\n",
            "7\n",
            "8\n",
            "9\n",
            "10\n"
          ]
        }
      ],
      "source": [
        "for i in range(1,11):\n",
        "  print(i)"
      ]
    },
    {
      "cell_type": "markdown",
      "source": [
        "### **Question 2: Write a program using a `while` loop to print the first 10 natural numbers.**"
      ],
      "metadata": {
        "id": "vxOAHP9LsLhn"
      }
    },
    {
      "cell_type": "code",
      "source": [
        "a = 0\n",
        "while (a<=9):\n",
        "  print(a)\n",
        "  a += 1"
      ],
      "metadata": {
        "colab": {
          "base_uri": "https://localhost:8080/"
        },
        "id": "ZoePvyGOsQSJ",
        "outputId": "cd349b71-f861-4af5-997c-18297cac7660"
      },
      "execution_count": 4,
      "outputs": [
        {
          "output_type": "stream",
          "name": "stdout",
          "text": [
            "0\n",
            "1\n",
            "2\n",
            "3\n",
            "4\n",
            "5\n",
            "6\n",
            "7\n",
            "8\n",
            "9\n"
          ]
        }
      ]
    },
    {
      "cell_type": "markdown",
      "source": [
        "### **Question 3: Print all even numbers between 1 and 50 using a `for` loop and `range()`.**\n"
      ],
      "metadata": {
        "id": "2t6_VwWasulp"
      }
    },
    {
      "cell_type": "code",
      "source": [
        "for i in range(1,51):\n",
        "  if i % 2 == 0:\n",
        "    print(i)"
      ],
      "metadata": {
        "colab": {
          "base_uri": "https://localhost:8080/"
        },
        "id": "5aB4VOOfszp4",
        "outputId": "9422f709-c38e-45eb-9b20-6e4598569222"
      },
      "execution_count": 5,
      "outputs": [
        {
          "output_type": "stream",
          "name": "stdout",
          "text": [
            "2\n",
            "4\n",
            "6\n",
            "8\n",
            "10\n",
            "12\n",
            "14\n",
            "16\n",
            "18\n",
            "20\n",
            "22\n",
            "24\n",
            "26\n",
            "28\n",
            "30\n",
            "32\n",
            "34\n",
            "36\n",
            "38\n",
            "40\n",
            "42\n",
            "44\n",
            "46\n",
            "48\n",
            "50\n"
          ]
        }
      ]
    },
    {
      "cell_type": "markdown",
      "source": [
        "### **Question 4: Print the sum of numbers from 1 to 100 using a `for` loop.**"
      ],
      "metadata": {
        "id": "AGvBU1c4tF-Z"
      }
    },
    {
      "cell_type": "code",
      "source": [
        "total_sum = 0\n",
        "for i in range(1,101):\n",
        "  total_sum = total_sum + i\n",
        "print(total_sum)"
      ],
      "metadata": {
        "colab": {
          "base_uri": "https://localhost:8080/"
        },
        "id": "j6htXNzLtK65",
        "outputId": "b43524b4-9342-4905-99cc-4ae4f6bdb21c"
      },
      "execution_count": 9,
      "outputs": [
        {
          "output_type": "stream",
          "name": "stdout",
          "text": [
            "5050\n"
          ]
        }
      ]
    },
    {
      "cell_type": "markdown",
      "source": [
        "### **Question 5: . Use a `while` loop to calculate the factorial of a number entered by the user.**\n",
        "\n"
      ],
      "metadata": {
        "id": "FTgYxkYBuME7"
      }
    },
    {
      "cell_type": "code",
      "source": [
        "num1 = int(input(\"Enter a number: \"))\n",
        "factorial = 1\n",
        "while num1 > 0:\n",
        "    factorial *= num1\n",
        "    num1 -= 1\n",
        "print(f\"The factorial is: {factorial}\")"
      ],
      "metadata": {
        "colab": {
          "base_uri": "https://localhost:8080/"
        },
        "id": "FGV-AwTfuQf9",
        "outputId": "e2f3ada6-d85e-441d-f45e-e1eef5fa7f5a"
      },
      "execution_count": 10,
      "outputs": [
        {
          "output_type": "stream",
          "name": "stdout",
          "text": [
            "Enter a number: 23\n",
            "The factorial is: 25852016738884976640000\n"
          ]
        }
      ]
    },
    {
      "cell_type": "markdown",
      "source": [
        "### **Question 6: . Print the following pattern using a `for` loop:**"
      ],
      "metadata": {
        "id": "hL8Nwlnwuu1L"
      }
    },
    {
      "cell_type": "code",
      "source": [
        "'''\n",
        "*\n",
        "* *\n",
        "* * *\n",
        "* * * *\n",
        "* * * * *\n",
        "'''\n",
        "\n",
        "for i in range(1, 6):\n",
        "  for j in range(i):\n",
        "    print(\"*\", end=\" \")\n",
        "  print()"
      ],
      "metadata": {
        "colab": {
          "base_uri": "https://localhost:8080/"
        },
        "id": "DzLFoNyCu0r0",
        "outputId": "b21e0d91-0dd5-423f-f78d-1fa8eaf4cbec"
      },
      "execution_count": 15,
      "outputs": [
        {
          "output_type": "stream",
          "name": "stdout",
          "text": [
            "* \n",
            "* * \n",
            "* * * \n",
            "* * * * \n",
            "* * * * * \n"
          ]
        }
      ]
    },
    {
      "cell_type": "markdown",
      "source": [
        "### **Question 7: Print this pattern using nested `for` loops:**"
      ],
      "metadata": {
        "id": "KE9ugbqMwdx0"
      }
    },
    {
      "cell_type": "code",
      "source": [
        "'''\n",
        "1\n",
        "1 2\n",
        "1 2 3\n",
        "1 2 3 4\n",
        "1 2 3 4 5\n",
        "'''\n",
        "\n",
        "for i in range(1, 6):\n",
        "  for j in range(1, i + 1):\n",
        "    print(j, end=\" \")\n",
        "  print()"
      ],
      "metadata": {
        "colab": {
          "base_uri": "https://localhost:8080/"
        },
        "id": "hBxGIiWgxsc2",
        "outputId": "30480e3c-99c1-4e2d-87ab-4402941c6525"
      },
      "execution_count": 22,
      "outputs": [
        {
          "output_type": "stream",
          "name": "stdout",
          "text": [
            "1 \n",
            "1 2 \n",
            "1 2 3 \n",
            "1 2 3 4 \n",
            "1 2 3 4 5 \n"
          ]
        }
      ]
    },
    {
      "cell_type": "markdown",
      "source": [
        "### **Question 8: Create a loop pattern of stars in reverse:*"
      ],
      "metadata": {
        "id": "btSvTvy-yI2h"
      }
    },
    {
      "cell_type": "code",
      "source": [
        "'''\n",
        "* * * * *\n",
        "* * * *\n",
        "* * *\n",
        "* *\n",
        "*\n",
        "'''\n",
        "\n",
        "for i in range(6, 1, -1):\n",
        "  for j in range(i, 1, -1):\n",
        "    print(\"*\", end=\" \")\n",
        "  print()"
      ],
      "metadata": {
        "colab": {
          "base_uri": "https://localhost:8080/"
        },
        "id": "yIXnk8DbyPe9",
        "outputId": "b82b0000-64cc-4976-d3d0-bba573d47fc2"
      },
      "execution_count": 23,
      "outputs": [
        {
          "output_type": "stream",
          "name": "stdout",
          "text": [
            "* * * * * \n",
            "* * * * \n",
            "* * * \n",
            "* * \n",
            "* \n"
          ]
        }
      ]
    },
    {
      "cell_type": "markdown",
      "source": [
        "### **Question 9: Write a `for` loop to print the multiplication table of any number entered by the user.**"
      ],
      "metadata": {
        "id": "pk6WNDj4zIvx"
      }
    },
    {
      "cell_type": "code",
      "source": [
        "num1 = int(input(\"Enter a number to get multiplication table: \"))\n",
        "for i in range(1,11):\n",
        "  print(f\"{num1} * {i} = {num1 * i}\")"
      ],
      "metadata": {
        "colab": {
          "base_uri": "https://localhost:8080/"
        },
        "id": "ukkFUfvazNud",
        "outputId": "af3b7926-bfef-4e1b-d6ed-b96a9a001fba"
      },
      "execution_count": 28,
      "outputs": [
        {
          "output_type": "stream",
          "name": "stdout",
          "text": [
            "Enter a number to get multiplication table: 6\n",
            "6 * 1 = 6\n",
            "6 * 2 = 12\n",
            "6 * 3 = 18\n",
            "6 * 4 = 24\n",
            "6 * 5 = 30\n",
            "6 * 6 = 36\n",
            "6 * 7 = 42\n",
            "6 * 8 = 48\n",
            "6 * 9 = 54\n",
            "6 * 10 = 60\n"
          ]
        }
      ]
    },
    {
      "cell_type": "markdown",
      "source": [
        "### **Question 10: Use a `while` loop to print the digits of a number in reverse order (e.g., 1234 → 4 3 2 1).**"
      ],
      "metadata": {
        "id": "DO5Xxfyy0It9"
      }
    },
    {
      "cell_type": "code",
      "source": [
        "num1 = int(input(\"Enter a number: \"))\n",
        "while num1 > 0:\n",
        "  digit = num1 % 10\n",
        "  print(digit, end=\" \")\n",
        "  num1 = num1 // 10"
      ],
      "metadata": {
        "colab": {
          "base_uri": "https://localhost:8080/"
        },
        "id": "pKNfqi060Nd7",
        "outputId": "9ee27b60-23c2-47d7-b807-6f9fb50ab777"
      },
      "execution_count": 33,
      "outputs": [
        {
          "output_type": "stream",
          "name": "stdout",
          "text": [
            "Enter a number: 2\n",
            "2 "
          ]
        }
      ]
    },
    {
      "cell_type": "markdown",
      "source": [
        "### **Question 11: Print all prime numbers between 1 and 100 using a loop.**"
      ],
      "metadata": {
        "id": "jbAPBHhU5FSy"
      }
    },
    {
      "cell_type": "code",
      "source": [
        "print(\"Prime numbers between 1 and 100 are:\")\n",
        "for num in range(2, 101):\n",
        "    is_prime = True\n",
        "    for i in range(2, int(num**0.5) + 1):\n",
        "        if num % i == 0:\n",
        "            is_prime = False\n",
        "            break\n",
        "    if is_prime:\n",
        "        print(num)"
      ],
      "metadata": {
        "colab": {
          "base_uri": "https://localhost:8080/"
        },
        "id": "YBPdXPU25L5B",
        "outputId": "95a42c40-aa60-4207-efd9-cbdd1a7d99f9"
      },
      "execution_count": 34,
      "outputs": [
        {
          "output_type": "stream",
          "name": "stdout",
          "text": [
            "Prime numbers between 1 and 100 are:\n",
            "2\n",
            "3\n",
            "5\n",
            "7\n",
            "11\n",
            "13\n",
            "17\n",
            "19\n",
            "23\n",
            "29\n",
            "31\n",
            "37\n",
            "41\n",
            "43\n",
            "47\n",
            "53\n",
            "59\n",
            "61\n",
            "67\n",
            "71\n",
            "73\n",
            "79\n",
            "83\n",
            "89\n",
            "97\n"
          ]
        }
      ]
    },
    {
      "cell_type": "markdown",
      "source": [
        "### **Question 12: Ask the user for a number and use a loop to check if it is a palindrome number.**"
      ],
      "metadata": {
        "id": "NaRNI5Af54G7"
      }
    },
    {
      "cell_type": "code",
      "metadata": {
        "colab": {
          "base_uri": "https://localhost:8080/"
        },
        "id": "9bce1b14",
        "outputId": "89733099-9bdc-44b6-9382-b507ff5650fa"
      },
      "source": [
        "num = int(input(\"Enter a number: \"))\n",
        "original_num = num\n",
        "reverse_num = 0\n",
        "\n",
        "while num > 0:\n",
        "    digit = num % 10\n",
        "    reverse_num = reverse_num * 10 + digit\n",
        "    num = num // 10\n",
        "\n",
        "if original_num == reverse_num:\n",
        "    print(f\"{original_num} is a palindrome number.\")\n",
        "else:\n",
        "    print(f\"{original_num} is not a palindrome number.\")"
      ],
      "execution_count": 35,
      "outputs": [
        {
          "output_type": "stream",
          "name": "stdout",
          "text": [
            "Enter a number: 2\n",
            "2 is a palindrome number.\n"
          ]
        }
      ]
    },
    {
      "cell_type": "markdown",
      "metadata": {
        "id": "b9d2600f"
      },
      "source": [
        "### **Question 13: Print the Fibonacci sequence up to 10 terms using a loop.**"
      ]
    },
    {
      "cell_type": "code",
      "metadata": {
        "colab": {
          "base_uri": "https://localhost:8080/"
        },
        "id": "a8ace9f1",
        "outputId": "77eb8188-0601-4ea4-cba4-452253b555fc"
      },
      "source": [
        "# Initialize the first two terms\n",
        "a, b = 0, 1\n",
        "\n",
        "print(\"Fibonacci sequence up to 10 terms:\")\n",
        "\n",
        "# Print the first two terms\n",
        "print(a, end=\" \")\n",
        "print(b, end=\" \")\n",
        "\n",
        "# Generate and print the remaining terms\n",
        "count = 2\n",
        "while count < 10:\n",
        "    next_term = a + b\n",
        "    print(next_term, end=\" \")\n",
        "    a = b\n",
        "    b = next_term\n",
        "    count += 1"
      ],
      "execution_count": 36,
      "outputs": [
        {
          "output_type": "stream",
          "name": "stdout",
          "text": [
            "Fibonacci sequence up to 10 terms:\n",
            "0 1 1 2 3 5 8 13 21 34 "
          ]
        }
      ]
    },
    {
      "cell_type": "markdown",
      "source": [
        "### **Question 14: Count how many digits are in an integer entered by the user using a `while` loop.**"
      ],
      "metadata": {
        "id": "_r3P6Ia16Xzg"
      }
    },
    {
      "cell_type": "code",
      "source": [
        "num = int(input(\"Enter an integer: \"))\n",
        "count = 0\n",
        "# Handle the case of 0 separately\n",
        "if num == 0:\n",
        "    count = 1\n",
        "else:\n",
        "    # Use abs() to handle negative numbers\n",
        "    num = abs(num)\n",
        "    while num > 0:\n",
        "        num = num // 10\n",
        "        count += 1\n",
        "\n",
        "print(f\"The number of digits is: {count}\")"
      ],
      "metadata": {
        "colab": {
          "base_uri": "https://localhost:8080/"
        },
        "id": "0MMPsPJT6dNV",
        "outputId": "2c67cd76-9cde-45d8-ee16-bf5f65c52f7a"
      },
      "execution_count": 37,
      "outputs": [
        {
          "output_type": "stream",
          "name": "stdout",
          "text": [
            "Enter an integer: 126790\n",
            "The number of digits is: 6\n"
          ]
        }
      ]
    },
    {
      "cell_type": "markdown",
      "source": [
        "### **Question 15: Print a pattern of numbers in triangle form:**"
      ],
      "metadata": {
        "id": "45YA1PyL6jvv"
      }
    },
    {
      "cell_type": "code",
      "source": [
        "num = 1\n",
        "for i in range(1, 5):\n",
        "  for j in range(i):\n",
        "    print(num, end=\" \")\n",
        "    num += 1\n",
        "  print()"
      ],
      "metadata": {
        "colab": {
          "base_uri": "https://localhost:8080/"
        },
        "id": "LIZJDrtz6qgW",
        "outputId": "47a4c18b-74d4-4734-8044-c56bc63759a4"
      },
      "execution_count": 38,
      "outputs": [
        {
          "output_type": "stream",
          "name": "stdout",
          "text": [
            "1 \n",
            "2 3 \n",
            "4 5 6 \n",
            "7 8 9 10 \n"
          ]
        }
      ]
    }
  ]
}