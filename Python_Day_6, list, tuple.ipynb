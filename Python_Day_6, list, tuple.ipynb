{
  "nbformat": 4,
  "nbformat_minor": 0,
  "metadata": {
    "colab": {
      "provenance": []
    },
    "kernelspec": {
      "name": "python3",
      "display_name": "Python 3"
    },
    "language_info": {
      "name": "python"
    }
  },
  "cells": [
    {
      "cell_type": "markdown",
      "source": [
        "**21-7-2025 | Monday | Built-in Data Structures Part 1**"
      ],
      "metadata": {
        "id": "DxOg9X60vNM2"
      }
    },
    {
      "cell_type": "markdown",
      "source": [
        "# **✅ 15 Python Practice Questions (Topics: Lists, Tuples)**"
      ],
      "metadata": {
        "id": "EqkVG7Klvnjw"
      }
    },
    {
      "cell_type": "markdown",
      "source": [
        "###**Question 1: Write a Python program to create a list of 5 integers and print the list.**"
      ],
      "metadata": {
        "id": "c3Fz8_3DwgSs"
      }
    },
    {
      "cell_type": "code",
      "execution_count": 1,
      "metadata": {
        "colab": {
          "base_uri": "https://localhost:8080/"
        },
        "id": "gjOvNNZcupCF",
        "outputId": "3535dd9e-3db2-4586-b86c-196b7dd4c5ef"
      },
      "outputs": [
        {
          "output_type": "stream",
          "name": "stdout",
          "text": [
            "[1, 2, 3, 4, 5]\n"
          ]
        }
      ],
      "source": [
        "my_list = [1, 2, 3, 4, 5]\n",
        "print(my_list)"
      ]
    },
    {
      "cell_type": "markdown",
      "source": [
        "### **Question 2: Write a Python function that takes a list of numbers and returns the maximum value.**"
      ],
      "metadata": {
        "id": "3xWcMR8iwvNA"
      }
    },
    {
      "cell_type": "code",
      "source": [
        "def find_maximum(numbers):\n",
        "  \"\"\"Finds the maximum value in a list of numbers.\"\"\"\n",
        "  return max(numbers)\n",
        "\n",
        "input_string = input(\"Enter a list of numbers separated by commas: \")\n",
        "number_strings = input_string.split(',')\n",
        "numbers = [int(num.strip()) for num in number_strings] # Convert each string to an integer and remove leading/trailing whitespace\n",
        "\n",
        "max_value = find_maximum(numbers)\n",
        "print(\"The maximum value is:\", max_value)"
      ],
      "metadata": {
        "colab": {
          "base_uri": "https://localhost:8080/"
        },
        "id": "khu9A5LzwzjY",
        "outputId": "c00302a4-fe8d-4f72-ad0e-13729d101f5b"
      },
      "execution_count": 3,
      "outputs": [
        {
          "output_type": "stream",
          "name": "stdout",
          "text": [
            "Enter a list of numbers separated by commas: 67, 34, 23, 98\n",
            "The maximum value is: 98\n"
          ]
        }
      ]
    },
    {
      "cell_type": "markdown",
      "source": [
        "### **Question 3: Create a list of fruits and print the second and last elements.**"
      ],
      "metadata": {
        "id": "T1W9l94gyAG5"
      }
    },
    {
      "cell_type": "code",
      "source": [
        "list_of_fruits = ['Mango', 'Melon', 'Apple', 'Banana', 'Grapes']\n",
        "print(\"Second fruit is:\", list_of_fruits[1])\n",
        "print(\"Last fruit is:\", list_of_fruits[-1])"
      ],
      "metadata": {
        "colab": {
          "base_uri": "https://localhost:8080/"
        },
        "id": "AhN7NJ4uyGi0",
        "outputId": "94e85f1b-57e3-4877-c372-9c220ba40559"
      },
      "execution_count": 5,
      "outputs": [
        {
          "output_type": "stream",
          "name": "stdout",
          "text": [
            "Second fruit is: Melon\n",
            "Last fruit is: Grapes\n"
          ]
        }
      ]
    },
    {
      "cell_type": "markdown",
      "source": [
        "### **Question 4: Write a program to remove all duplicates from a list.**"
      ],
      "metadata": {
        "id": "Bi9NpClHyk9K"
      }
    },
    {
      "cell_type": "code",
      "source": [
        "my_list = [1, 2, 2, 3, 4, 4, 5]\n",
        "unique_list = list(set(my_list))\n",
        "print(unique_list)"
      ],
      "metadata": {
        "colab": {
          "base_uri": "https://localhost:8080/"
        },
        "id": "BwO_3l8Nyphp",
        "outputId": "375431c3-b2b4-487c-a857-f620c49d35c8"
      },
      "execution_count": 6,
      "outputs": [
        {
          "output_type": "stream",
          "name": "stdout",
          "text": [
            "[1, 2, 3, 4, 5]\n"
          ]
        }
      ]
    },
    {
      "cell_type": "markdown",
      "source": [
        "### **Question 5: Write a Python program to find the sum and average of elements in a list.**"
      ],
      "metadata": {
        "id": "fIj0CxHCyve5"
      }
    },
    {
      "cell_type": "code",
      "source": [
        "my_list = [10, 23, 54, 98, 12, 78]\n",
        "sum_of_elements = sum(my_list)\n",
        "average = sum_of_elements / len(my_list)\n",
        "print(\"Sum of elements:\", sum_of_elements)\n",
        "print(\"Average of elements:\", average)"
      ],
      "metadata": {
        "colab": {
          "base_uri": "https://localhost:8080/"
        },
        "id": "YHzhni2hy2gg",
        "outputId": "40fe61f2-78aa-4465-fcc4-ccc159f2f8f2"
      },
      "execution_count": 7,
      "outputs": [
        {
          "output_type": "stream",
          "name": "stdout",
          "text": [
            "Sum of elements: 275\n",
            "Average of elements: 45.833333333333336\n"
          ]
        }
      ]
    },
    {
      "cell_type": "markdown",
      "source": [
        "### **Question 6: Given a list of numbers, write a program to square each number and store the result in a new list.**"
      ],
      "metadata": {
        "id": "a7RVLMHyzDcq"
      }
    },
    {
      "cell_type": "code",
      "source": [
        "my_list = [2, 4, 7, 9, 1, 6, 8]\n",
        "squared_list = [x**2 for x in my_list]\n",
        "print(squared_list)"
      ],
      "metadata": {
        "colab": {
          "base_uri": "https://localhost:8080/"
        },
        "id": "cRh1Vd_QzMAD",
        "outputId": "bc18feb3-7b37-4b8e-af93-27a9d81979c2"
      },
      "execution_count": 8,
      "outputs": [
        {
          "output_type": "stream",
          "name": "stdout",
          "text": [
            "[4, 16, 49, 81, 1, 36, 64]\n"
          ]
        }
      ]
    },
    {
      "cell_type": "markdown",
      "source": [
        "### **Question 7: Write a program to reverse a list without using built-in reverse() function.**"
      ],
      "metadata": {
        "id": "1gVRTt-ezbFn"
      }
    },
    {
      "cell_type": "code",
      "source": [
        "my_list = [2, 6, 9, 3, 5, 67]\n",
        "reverse_list = my_list[::-1]\n",
        "print(reverse_list)"
      ],
      "metadata": {
        "colab": {
          "base_uri": "https://localhost:8080/"
        },
        "id": "ndStW__Zzgba",
        "outputId": "921ef8ad-53d6-4cbb-9de1-b007a077958a"
      },
      "execution_count": 9,
      "outputs": [
        {
          "output_type": "stream",
          "name": "stdout",
          "text": [
            "[67, 5, 3, 9, 6, 2]\n"
          ]
        }
      ]
    },
    {
      "cell_type": "markdown",
      "source": [
        "### **Question 8: Check whether a specific item exists in a list or not.**"
      ],
      "metadata": {
        "id": "MZPgP5_HzvgD"
      }
    },
    {
      "cell_type": "code",
      "metadata": {
        "colab": {
          "base_uri": "https://localhost:8080/"
        },
        "id": "5fea8566",
        "outputId": "df8c1b36-018d-42b8-97e0-cab5f08f1b58"
      },
      "source": [
        "my_list = ['Apple', 'Orange', 'Banana', 'Grapes']\n",
        "item = 'Banana'\n",
        "if item in my_list:\n",
        "  print(f\"Item '{item}' exists in the list.\")\n",
        "else:\n",
        "  print(f\"Item '{item}' does not exist in the list\")"
      ],
      "execution_count": 11,
      "outputs": [
        {
          "output_type": "stream",
          "name": "stdout",
          "text": [
            "Item 'Banana' exists in the list.\n"
          ]
        }
      ]
    },
    {
      "cell_type": "markdown",
      "source": [
        "### **Question 9: Create a tuple with 6 elements. Print the first, third, and last element.**"
      ],
      "metadata": {
        "id": "5dNac1N800Id"
      }
    },
    {
      "cell_type": "code",
      "source": [
        "my_tuple = (1, 8, 45, 90, 25, 67)\n",
        "print(f\"First element: {my_tuple[0]}\")\n",
        "print(f\"Third element: {my_tuple[2]}\")\n",
        "print(f\"Last element: {my_tuple[-1]}\")"
      ],
      "metadata": {
        "colab": {
          "base_uri": "https://localhost:8080/"
        },
        "id": "fQQPWz1U06_s",
        "outputId": "88b612c3-913c-4a30-f544-6ef2de2799b0"
      },
      "execution_count": 12,
      "outputs": [
        {
          "output_type": "stream",
          "name": "stdout",
          "text": [
            "First element: 1\n",
            "Third element: 45\n",
            "Last element: 67\n"
          ]
        }
      ]
    },
    {
      "cell_type": "markdown",
      "source": [
        "## **Question 10: Write a Python program to convert a list into a tuple.**"
      ],
      "metadata": {
        "id": "JINLxXzG1JxQ"
      }
    },
    {
      "cell_type": "code",
      "source": [
        "my_list = [87, 45, 90, 23, 67, 12]\n",
        "my_tuple = tuple(my_list)\n",
        "my_tuple"
      ],
      "metadata": {
        "colab": {
          "base_uri": "https://localhost:8080/"
        },
        "id": "GJpzrjNQ1PQ5",
        "outputId": "81f7cf2e-5fbd-439e-92fe-208d9f52814a"
      },
      "execution_count": 14,
      "outputs": [
        {
          "output_type": "execute_result",
          "data": {
            "text/plain": [
              "(87, 45, 90, 23, 67, 12)"
            ]
          },
          "metadata": {},
          "execution_count": 14
        }
      ]
    },
    {
      "cell_type": "markdown",
      "source": [
        "## **Question 11: Write a program to count how many times an item appears in a tuple.**"
      ],
      "metadata": {
        "id": "DgzXl87Q1b_n"
      }
    },
    {
      "cell_type": "code",
      "source": [
        "my_tuple = (34, 67, 98, 12, 45, 34)\n",
        "# Use a set to avoid repeating counts\n",
        "for item in set(my_tuple):\n",
        "    print(item, \"appears\", my_tuple.count(item), \"times\")"
      ],
      "metadata": {
        "colab": {
          "base_uri": "https://localhost:8080/"
        },
        "id": "s_mY8lfP1f4l",
        "outputId": "5a60fde9-bdb3-4129-c0e4-a71213bf6ecd"
      },
      "execution_count": 16,
      "outputs": [
        {
          "output_type": "stream",
          "name": "stdout",
          "text": [
            "34 appears 2 times\n",
            "67 appears 1 times\n",
            "98 appears 1 times\n",
            "12 appears 1 times\n",
            "45 appears 1 times\n"
          ]
        }
      ]
    },
    {
      "cell_type": "markdown",
      "source": [
        "### **Question 12: Given a tuple of numbers, write a program to find the minimum and maximum values.**"
      ],
      "metadata": {
        "id": "p13m0cA32P57"
      }
    },
    {
      "cell_type": "code",
      "source": [
        "my_tuple = (56, 34, 12, 96,)\n",
        "min_item = min(my_tuple)\n",
        "max_item = max(my_tuple)\n",
        "print(f\"Minimum value: {min_item}\")\n",
        "print(f\"Maximum value: {max_item}\")"
      ],
      "metadata": {
        "colab": {
          "base_uri": "https://localhost:8080/"
        },
        "id": "N8UPQBK02UM3",
        "outputId": "15fbe02b-c21e-4791-d16f-b413252c43ed"
      },
      "execution_count": 17,
      "outputs": [
        {
          "output_type": "stream",
          "name": "stdout",
          "text": [
            "Minimum value: 12\n",
            "Maximum value: 96\n"
          ]
        }
      ]
    },
    {
      "cell_type": "markdown",
      "source": [
        "### **Question 13: Create a tuple of student names. Try modifying one element and observe the error.**"
      ],
      "metadata": {
        "id": "X_oltPXN2eOv"
      }
    },
    {
      "cell_type": "code",
      "source": [
        "my_tuple = (34, 67, 59, 40, 31)\n",
        "mod_item = my_tuple[2] = 78\n",
        "print(mod_item)"
      ],
      "metadata": {
        "colab": {
          "base_uri": "https://localhost:8080/",
          "height": 176
        },
        "id": "uoJyH5As2kOe",
        "outputId": "cb96c3a6-0d27-4462-ee5b-76a7a92979e6"
      },
      "execution_count": 18,
      "outputs": [
        {
          "output_type": "error",
          "ename": "TypeError",
          "evalue": "'tuple' object does not support item assignment",
          "traceback": [
            "\u001b[0;31m---------------------------------------------------------------------------\u001b[0m",
            "\u001b[0;31mTypeError\u001b[0m                                 Traceback (most recent call last)",
            "\u001b[0;32m/tmp/ipython-input-18-4186730322.py\u001b[0m in \u001b[0;36m<cell line: 0>\u001b[0;34m()\u001b[0m\n\u001b[1;32m      1\u001b[0m \u001b[0mmy_tuple\u001b[0m \u001b[0;34m=\u001b[0m \u001b[0;34m(\u001b[0m\u001b[0;36m34\u001b[0m\u001b[0;34m,\u001b[0m \u001b[0;36m67\u001b[0m\u001b[0;34m,\u001b[0m \u001b[0;36m59\u001b[0m\u001b[0;34m,\u001b[0m \u001b[0;36m40\u001b[0m\u001b[0;34m,\u001b[0m \u001b[0;36m31\u001b[0m\u001b[0;34m)\u001b[0m\u001b[0;34m\u001b[0m\u001b[0;34m\u001b[0m\u001b[0m\n\u001b[0;32m----> 2\u001b[0;31m \u001b[0mmod_item\u001b[0m \u001b[0;34m=\u001b[0m \u001b[0mmy_tuple\u001b[0m\u001b[0;34m[\u001b[0m\u001b[0;36m2\u001b[0m\u001b[0;34m]\u001b[0m \u001b[0;34m=\u001b[0m \u001b[0;36m78\u001b[0m\u001b[0;34m\u001b[0m\u001b[0;34m\u001b[0m\u001b[0m\n\u001b[0m\u001b[1;32m      3\u001b[0m \u001b[0mprint\u001b[0m\u001b[0;34m(\u001b[0m\u001b[0mmod_item\u001b[0m\u001b[0;34m)\u001b[0m\u001b[0;34m\u001b[0m\u001b[0;34m\u001b[0m\u001b[0m\n",
            "\u001b[0;31mTypeError\u001b[0m: 'tuple' object does not support item assignment"
          ]
        }
      ]
    },
    {
      "cell_type": "markdown",
      "source": [
        "### **Question 14: Write a program that merges two lists into one and removes duplicates.**"
      ],
      "metadata": {
        "id": "I6HtYe2u3HKc"
      }
    },
    {
      "cell_type": "code",
      "source": [
        "my_list1 = [56, 34, 9, 4, 98]\n",
        "my_list2 = [90, 4, 67, 34, 8]\n",
        "list3 = my_list1 + my_list2\n",
        "list3 = set(list3)\n",
        "print(list3)"
      ],
      "metadata": {
        "colab": {
          "base_uri": "https://localhost:8080/"
        },
        "id": "WC0bs2Px3NX6",
        "outputId": "ecd2b45b-2750-413f-d90f-c618e10e2296"
      },
      "execution_count": 19,
      "outputs": [
        {
          "output_type": "stream",
          "name": "stdout",
          "text": [
            "{34, 98, 4, 67, 8, 9, 56, 90}\n"
          ]
        }
      ]
    },
    {
      "cell_type": "markdown",
      "source": [
        "### **Question 15: Given a list of numbers, write a program to find the second largest number.**"
      ],
      "metadata": {
        "id": "qxetda5g_Zv2"
      }
    },
    {
      "cell_type": "code",
      "source": [
        "my_list = [56, 34, 87, 90, 21]\n",
        "my_list.sort(reverse=True)\n",
        "second_largest = my_list[1]\n",
        "print(second_largest)"
      ],
      "metadata": {
        "colab": {
          "base_uri": "https://localhost:8080/"
        },
        "id": "PR5f5quw_gZp",
        "outputId": "1ba3b4ed-5f4e-4855-d8d9-1a622f1e2344"
      },
      "execution_count": 20,
      "outputs": [
        {
          "output_type": "stream",
          "name": "stdout",
          "text": [
            "87\n"
          ]
        }
      ]
    }
  ]
}