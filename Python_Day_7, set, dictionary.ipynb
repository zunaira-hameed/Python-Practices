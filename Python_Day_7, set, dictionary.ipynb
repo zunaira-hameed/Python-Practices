{
  "nbformat": 4,
  "nbformat_minor": 0,
  "metadata": {
    "colab": {
      "provenance": []
    },
    "kernelspec": {
      "name": "python3",
      "display_name": "Python 3"
    },
    "language_info": {
      "name": "python"
    }
  },
  "cells": [
    {
      "cell_type": "markdown",
      "source": [
        "**22-7-2025 | Tuesday | Built-in Data Structures Part 2**"
      ],
      "metadata": {
        "id": "79fKJSpVaRBP"
      }
    },
    {
      "cell_type": "markdown",
      "source": [
        "# **✅ 15 Python Practice Questions (Topics: Sets, Dictionaries, String Methods)**"
      ],
      "metadata": {
        "id": "pn-08_vTasGx"
      }
    },
    {
      "cell_type": "code",
      "execution_count": 3,
      "metadata": {
        "id": "IuRNfp9CwnXj",
        "colab": {
          "base_uri": "https://localhost:8080/"
        },
        "outputId": "fb0c704f-6ecd-44b5-b034-04adf4b3e263"
      },
      "outputs": [
        {
          "output_type": "stream",
          "name": "stdout",
          "text": [
            "capitalize\n",
            "casefold\n",
            "center\n",
            "count\n",
            "encode\n",
            "endswith\n",
            "expandtabs\n",
            "find\n",
            "format\n",
            "format_map\n",
            "index\n",
            "isalnum\n",
            "isalpha\n",
            "isascii\n",
            "isdecimal\n",
            "isdigit\n",
            "isidentifier\n",
            "islower\n",
            "isnumeric\n",
            "isprintable\n",
            "isspace\n",
            "istitle\n",
            "isupper\n",
            "join\n",
            "ljust\n",
            "lower\n",
            "lstrip\n",
            "maketrans\n",
            "partition\n",
            "removeprefix\n",
            "removesuffix\n",
            "replace\n",
            "rfind\n",
            "rindex\n",
            "rjust\n",
            "rpartition\n",
            "rsplit\n",
            "rstrip\n",
            "split\n",
            "splitlines\n",
            "startswith\n",
            "strip\n",
            "swapcase\n",
            "title\n",
            "translate\n",
            "upper\n",
            "zfill\n"
          ]
        }
      ],
      "source": [
        "# Get all attributes of string\n",
        "all_attributes = dir(str)\n",
        "\n",
        "# Filter only methods (ignore special ones like __add__)\n",
        "string_methods = [method for method in all_attributes if not method.startswith('__')]\n",
        "\n",
        "# Display the methods\n",
        "for method in string_methods:\n",
        "    print(method)\n"
      ]
    },
    {
      "cell_type": "markdown",
      "source": [
        "###**Question 1: Create a set from this list: [1, 2, 2, 3, 4, 4, 5]. Print the set.**"
      ],
      "metadata": {
        "id": "KQFROjwKan6u"
      }
    },
    {
      "cell_type": "code",
      "source": [
        "my_list = [1, 2, 2, 3, 4, 4, 5]\n",
        "list_to_set = set(my_list)\n",
        "print(list_to_set)"
      ],
      "metadata": {
        "colab": {
          "base_uri": "https://localhost:8080/"
        },
        "id": "f3hNMY5pa8NP",
        "outputId": "44fb906d-fb1f-4c78-f5ec-a4d4d2b0f5b7"
      },
      "execution_count": 4,
      "outputs": [
        {
          "output_type": "stream",
          "name": "stdout",
          "text": [
            "{1, 2, 3, 4, 5}\n"
          ]
        }
      ]
    },
    {
      "cell_type": "markdown",
      "source": [
        "###**Question 2: Create a dictionary with your name, age, and city. Print the dictionary.**"
      ],
      "metadata": {
        "id": "NwWr4XakbMQJ"
      }
    },
    {
      "cell_type": "code",
      "source": [
        "my_dict = {\n",
        "    \"name\": \"Zunaira Hameed\",\n",
        "    \"age\": 22,\n",
        "    \"city\": \"Sadiqabad\"\n",
        "}\n",
        "print(my_dict)"
      ],
      "metadata": {
        "colab": {
          "base_uri": "https://localhost:8080/"
        },
        "id": "-lWKZHahbVLp",
        "outputId": "f75f616b-0952-4ac9-a58d-86405c891f67"
      },
      "execution_count": 6,
      "outputs": [
        {
          "output_type": "stream",
          "name": "stdout",
          "text": [
            "{'name': 'Zunaira Hameed', 'age': 22, 'city': 'Sadiqabad'}\n"
          ]
        }
      ]
    },
    {
      "cell_type": "markdown",
      "source": [
        "###**Question 3: Use a string method to convert the string 'hello world' to uppercase.**"
      ],
      "metadata": {
        "id": "EuM4wOi5bv4-"
      }
    },
    {
      "cell_type": "code",
      "source": [
        "my_str = \"hello world\"\n",
        "str_to_uppercase = my_str.upper()\n",
        "print(str_to_uppercase)"
      ],
      "metadata": {
        "colab": {
          "base_uri": "https://localhost:8080/"
        },
        "id": "E-3fSgKwb1KS",
        "outputId": "5bdec82d-a937-4d2e-8bdb-98d0fae0c85e"
      },
      "execution_count": 12,
      "outputs": [
        {
          "output_type": "stream",
          "name": "stdout",
          "text": [
            "HELLO WORLD\n"
          ]
        }
      ]
    },
    {
      "cell_type": "markdown",
      "source": [
        "###**Question 4: Find the length of the string 'Python Programming'.**"
      ],
      "metadata": {
        "id": "g__D0HfHcSyA"
      }
    },
    {
      "cell_type": "code",
      "source": [
        "my_str = 'Python Programming'\n",
        "len_of_str = len(my_str)\n",
        "print(len_of_str)"
      ],
      "metadata": {
        "colab": {
          "base_uri": "https://localhost:8080/"
        },
        "id": "P5zj7d4tcZbn",
        "outputId": "e9b452f1-e785-427d-d930-e8a970d141e0"
      },
      "execution_count": 11,
      "outputs": [
        {
          "output_type": "stream",
          "name": "stdout",
          "text": [
            "18\n"
          ]
        }
      ]
    },
    {
      "cell_type": "markdown",
      "source": [
        "###**Question 5: Check if the word 'apple' is in the set {'banana', 'apple', 'orange'}.**"
      ],
      "metadata": {
        "id": "9SNoM7AWcsaW"
      }
    },
    {
      "cell_type": "code",
      "source": [
        "my_set = {'banana', 'apple', 'orange'}\n",
        "check_word = 'apple' in my_set\n",
        "print(check_word)"
      ],
      "metadata": {
        "colab": {
          "base_uri": "https://localhost:8080/"
        },
        "id": "_2RFq6fbc0II",
        "outputId": "5322d89e-9a5c-468f-962d-e7d400c7f2e1"
      },
      "execution_count": 13,
      "outputs": [
        {
          "output_type": "stream",
          "name": "stdout",
          "text": [
            "True\n"
          ]
        }
      ]
    },
    {
      "cell_type": "markdown",
      "source": [
        "###**Question 6: Print all keys from the dictionary: {'name': 'Ali', 'age': 25, 'city': 'Lahore'}.**"
      ],
      "metadata": {
        "id": "kAuXqxITc4MN"
      }
    },
    {
      "cell_type": "code",
      "source": [
        "my_dict = {'name': 'Zunaira', 'age': 22, 'city': 'Sadiqabad'}\n",
        "print(my_dict.keys())"
      ],
      "metadata": {
        "colab": {
          "base_uri": "https://localhost:8080/"
        },
        "id": "lLSGq3Jwc9iH",
        "outputId": "a0f5e557-8e95-45c2-9c71-d2fd031dc87d"
      },
      "execution_count": 14,
      "outputs": [
        {
          "output_type": "stream",
          "name": "stdout",
          "text": [
            "dict_keys(['name', 'age', 'city'])\n"
          ]
        }
      ]
    },
    {
      "cell_type": "markdown",
      "source": [
        "###**Question 7: Use string method to count how many times 'a' appears in 'banana'.**"
      ],
      "metadata": {
        "id": "jYIdm-cqdIms"
      }
    },
    {
      "cell_type": "code",
      "source": [
        "my_str = 'banana'\n",
        "count_letter = my_str.count('a')\n",
        "print(count_letter)"
      ],
      "metadata": {
        "colab": {
          "base_uri": "https://localhost:8080/"
        },
        "id": "24_N6qWJdPPp",
        "outputId": "1fa253cf-b127-41fd-a5fc-c63c9c177cb9"
      },
      "execution_count": 15,
      "outputs": [
        {
          "output_type": "stream",
          "name": "stdout",
          "text": [
            "3\n"
          ]
        }
      ]
    },
    {
      "cell_type": "markdown",
      "source": [
        "###**Question 8: Add an item to this set: {'red', 'green'}. Add 'blue'.**"
      ],
      "metadata": {
        "id": "ZeBRxkcPdaKG"
      }
    },
    {
      "cell_type": "code",
      "source": [
        "my_set = {'red', 'green'}\n",
        "my_set.add('blue')\n",
        "print(my_set)"
      ],
      "metadata": {
        "colab": {
          "base_uri": "https://localhost:8080/"
        },
        "id": "RMlPidXlde4V",
        "outputId": "806ee93b-cd03-4fea-ae7d-8ce15e5eecc6"
      },
      "execution_count": 16,
      "outputs": [
        {
          "output_type": "stream",
          "name": "stdout",
          "text": [
            "{'blue', 'red', 'green'}\n"
          ]
        }
      ]
    },
    {
      "cell_type": "markdown",
      "source": [
        "###**Question 9: Change the value of 'age' in the dictionary {'name': 'Sara', 'age': 22} to 23.**"
      ],
      "metadata": {
        "id": "QH9kKuWjdlHn"
      }
    },
    {
      "cell_type": "code",
      "source": [
        "my_dict = {'name': \"Sara\", 'age': 22}\n",
        "my_dict['age'] = 23\n",
        "print(my_dict)"
      ],
      "metadata": {
        "colab": {
          "base_uri": "https://localhost:8080/"
        },
        "id": "nOzg2PVRdvMh",
        "outputId": "3cfd15ac-1b96-47b6-9b79-183dc138e112"
      },
      "execution_count": 17,
      "outputs": [
        {
          "output_type": "stream",
          "name": "stdout",
          "text": [
            "{'name': 'Sara', 'age': 23}\n"
          ]
        }
      ]
    },
    {
      "cell_type": "markdown",
      "source": [
        "###**Question 10: Remove the word 'cat' from the set {'cat', 'dog', 'mouse'}.**"
      ],
      "metadata": {
        "id": "DKOZDAOEd8ha"
      }
    },
    {
      "cell_type": "code",
      "source": [
        "my_set = {'cat', 'dog', 'mouse'}\n",
        "my_set.remove('cat')\n",
        "print(my_set)"
      ],
      "metadata": {
        "colab": {
          "base_uri": "https://localhost:8080/"
        },
        "id": "AbCrgeWDeCbe",
        "outputId": "b61a9ea2-399a-42f0-a99f-906233eb9255"
      },
      "execution_count": 18,
      "outputs": [
        {
          "output_type": "stream",
          "name": "stdout",
          "text": [
            "{'dog', 'mouse'}\n"
          ]
        }
      ]
    },
    {
      "cell_type": "markdown",
      "source": [
        "###**Question 11: Split the string 'apple, banana, orange' into a list using string method.**"
      ],
      "metadata": {
        "id": "AIfMCUYoeH2p"
      }
    },
    {
      "cell_type": "code",
      "source": [
        "my_str = 'apple, banana, orange'\n",
        "str_to_list = my_str.split(', ')\n",
        "print(str_to_list)"
      ],
      "metadata": {
        "colab": {
          "base_uri": "https://localhost:8080/"
        },
        "id": "dPrSYh_keNYU",
        "outputId": "ea24be53-857f-45d5-b5d9-02bddc9e3736"
      },
      "execution_count": 19,
      "outputs": [
        {
          "output_type": "stream",
          "name": "stdout",
          "text": [
            "['apple', 'banana', 'orange']\n"
          ]
        }
      ]
    },
    {
      "cell_type": "markdown",
      "source": [
        "###**Question 12: Check if key 'city' exists in the dictionary {'name': 'Ali', 'city': 'Karachi'}.**"
      ],
      "metadata": {
        "id": "8yefCsPjeWNb"
      }
    },
    {
      "cell_type": "code",
      "source": [
        "my_dict = {'name': 'Ali', 'city': 'Karachi'}\n",
        "check_key = 'city' in my_dict\n",
        "print(check_key)"
      ],
      "metadata": {
        "colab": {
          "base_uri": "https://localhost:8080/"
        },
        "id": "f2c_vnUdebig",
        "outputId": "41382a89-e5bd-474e-dcd4-901ac368b2d5"
      },
      "execution_count": 20,
      "outputs": [
        {
          "output_type": "stream",
          "name": "stdout",
          "text": [
            "True\n"
          ]
        }
      ]
    },
    {
      "cell_type": "markdown",
      "source": [
        "###**Question 13: Join the list ['Python', 'is', 'fun'] into a single string.**"
      ],
      "metadata": {
        "id": "pWBjvU7oehFx"
      }
    },
    {
      "cell_type": "code",
      "source": [
        "my_list = ['Python', 'is', 'fun']\n",
        "list_to_str = ' '.join(my_list)\n",
        "print(list_to_str)"
      ],
      "metadata": {
        "colab": {
          "base_uri": "https://localhost:8080/"
        },
        "id": "UI6eo3SGem7W",
        "outputId": "0aa23602-fbfb-4905-8ac1-1fc783cab741"
      },
      "execution_count": 23,
      "outputs": [
        {
          "output_type": "stream",
          "name": "stdout",
          "text": [
            "Python is fun\n"
          ]
        }
      ]
    },
    {
      "cell_type": "markdown",
      "source": [
        "###**Question 14: Clear all items from the dictionary {'a': 1, 'b': 2}.**"
      ],
      "metadata": {
        "id": "rEW_mipBe1OS"
      }
    },
    {
      "cell_type": "code",
      "source": [
        "my_dict = {'a': 1, 'b': 2}\n",
        "my_dict.clear()\n",
        "print(my_dict)"
      ],
      "metadata": {
        "colab": {
          "base_uri": "https://localhost:8080/"
        },
        "id": "ZAdULTBje7bJ",
        "outputId": "1db7edc3-aa45-463a-cbc9-bc5c67e9fbc0"
      },
      "execution_count": 24,
      "outputs": [
        {
          "output_type": "stream",
          "name": "stdout",
          "text": [
            "{}\n"
          ]
        }
      ]
    },
    {
      "cell_type": "markdown",
      "source": [
        "###**Question 15: Use a string method to replace 'world' with 'Python' in the string 'hello world'.**"
      ],
      "metadata": {
        "id": "6twRPTMve-ex"
      }
    },
    {
      "cell_type": "code",
      "source": [
        "my_str = 'hello world'\n",
        "str_change = my_str.replace('world', 'Python')\n",
        "print(str_change)"
      ],
      "metadata": {
        "colab": {
          "base_uri": "https://localhost:8080/"
        },
        "id": "dzy3uoXsfDTZ",
        "outputId": "32285806-170d-484e-d645-cd2395ea62a0"
      },
      "execution_count": 25,
      "outputs": [
        {
          "output_type": "stream",
          "name": "stdout",
          "text": [
            "hello Python\n"
          ]
        }
      ]
    }
  ]
}