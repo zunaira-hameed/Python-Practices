{
  "nbformat": 4,
  "nbformat_minor": 0,
  "metadata": {
    "colab": {
      "provenance": []
    },
    "kernelspec": {
      "name": "python3",
      "display_name": "Python 3"
    },
    "language_info": {
      "name": "python"
    }
  },
  "cells": [
    {
      "cell_type": "markdown",
      "source": [
        "**17-7-2025 | Friday | User Input & Operators**"
      ],
      "metadata": {
        "id": "k1L-SjkC0uKU"
      }
    },
    {
      "cell_type": "markdown",
      "source": [
        "# **✅ 15 Python Practice Questions (Topics: Input(), Operators)**\n",
        "1. Arithmetic Operators\n",
        "2. Assignment Operators\n",
        "3. Logical Operators\n",
        "4. Comparison Operators\n",
        "5. Identical Operators\n",
        "6. Membership Operators\n",
        "7. Bitwise Operators"
      ],
      "metadata": {
        "id": "2-GgmwOl04BG"
      }
    },
    {
      "cell_type": "markdown",
      "source": [
        "### **Question 1: Write a Python program that asks the user for their name and age, then prints a message like: \"Hello Alice, you are 25 years old.\"**"
      ],
      "metadata": {
        "id": "ks11XPSG1bo7"
      }
    },
    {
      "cell_type": "code",
      "execution_count": 1,
      "metadata": {
        "colab": {
          "base_uri": "https://localhost:8080/"
        },
        "id": "CByVqSgG0ir2",
        "outputId": "b85d6fdb-d161-46fc-944c-7e6906c596d4"
      },
      "outputs": [
        {
          "output_type": "stream",
          "name": "stdout",
          "text": [
            "Enter your name: Zunaira\n",
            "Enter your age: 22\n",
            "Hello Zunaira, you are 22 years old.\n"
          ]
        }
      ],
      "source": [
        "user_name = input(\"Enter your name: \")\n",
        "user_age = input(\"Enter your age: \")\n",
        "print(f\"Hello {user_name}, you are {user_age} years old.\")"
      ]
    },
    {
      "cell_type": "markdown",
      "source": [
        "### **Question 2: What is the data type returned by the input() function in Python?**"
      ],
      "metadata": {
        "id": "qVYqeV9s14zT"
      }
    },
    {
      "cell_type": "markdown",
      "source": [
        "### **Answer:**\n",
        "Data type returned by python input() function is always string, regardless of whatever user inputs."
      ],
      "metadata": {
        "id": "y5Vtc__M2EiT"
      }
    },
    {
      "cell_type": "markdown",
      "source": [
        "### **Question 3: How would you get a number from the user using input() and perform addition with another number?**"
      ],
      "metadata": {
        "id": "uz7i7BxI2ROx"
      }
    },
    {
      "cell_type": "markdown",
      "source": [
        "### **Answer:**\n",
        "input function always give value in string format, to perform addition on it, we need to convert it into integer or float type."
      ],
      "metadata": {
        "id": "XWgE46JF2lTO"
      }
    },
    {
      "cell_type": "code",
      "source": [
        "user_age = input(\"Enter your age: \")\n",
        "user_age = int(user_age)\n",
        "print(f\"You are {user_age} years old.\")\n",
        "\n",
        "add_result = user_age + 5\n",
        "print(f\"After 5 years, you will be {add_result} years old.\")"
      ],
      "metadata": {
        "colab": {
          "base_uri": "https://localhost:8080/"
        },
        "id": "IO8OMzXA19vO",
        "outputId": "d9bdbb64-5cec-4b95-a2a2-42f6ad2c7b4d"
      },
      "execution_count": 3,
      "outputs": [
        {
          "output_type": "stream",
          "name": "stdout",
          "text": [
            "Enter your age: 22\n",
            "You are 22 years old.\n",
            "After 5 years, you will be 27 years old.\n"
          ]
        }
      ]
    },
    {
      "cell_type": "markdown",
      "source": [
        "### **Question 4: What is the output of the following code?**\n",
        "print(10 + 3 * 2)"
      ],
      "metadata": {
        "id": "VXZs0Knz3TmA"
      }
    },
    {
      "cell_type": "code",
      "source": [
        "# Applying BODMAS Rule\n",
        "print(10+3*2)"
      ],
      "metadata": {
        "colab": {
          "base_uri": "https://localhost:8080/"
        },
        "id": "SQu4UIxZ3bEe",
        "outputId": "718554ea-45c6-40cd-b86f-585175179f03"
      },
      "execution_count": 5,
      "outputs": [
        {
          "output_type": "stream",
          "name": "stdout",
          "text": [
            "16\n"
          ]
        }
      ]
    },
    {
      "cell_type": "markdown",
      "source": [
        "### **Question 5: Write a program to take two numbers from the user and display their sum, difference, product, quotient, and remainder.**"
      ],
      "metadata": {
        "id": "PoWym8DX30Tv"
      }
    },
    {
      "cell_type": "code",
      "source": [
        "val_1 = input(\"Enter first value: \")\n",
        "val_2 = input(\"Enter second value: \")\n",
        "val_1 = int(val_1)\n",
        "val_2 = int(val_2)\n",
        "print(f\"Sum of {val_1} and {val_2} is: {val_1+val_2}\")\n",
        "print(f\"Difference of {val_1} and {val_2} is: {val_1-val_2}\")\n",
        "print(f\"Product of {val_1} and {val_2} is: {val_1*val_2}\")\n",
        "print(f\"Quotient of {val_1} and {val_2} is: {val_1/val_2}\")\n",
        "print(f\"Remainder of {val_1} and {val_2} is: {val_1%val_2}\")"
      ],
      "metadata": {
        "colab": {
          "base_uri": "https://localhost:8080/"
        },
        "id": "yeaAxYlG38mC",
        "outputId": "741806e1-af82-4cea-f239-6c0af26df3a3"
      },
      "execution_count": 7,
      "outputs": [
        {
          "output_type": "stream",
          "name": "stdout",
          "text": [
            "Enter first value: 2\n",
            "Enter second value: 9\n",
            "Sum of 2 and 9 is: 11\n",
            "Difference of 2 and 9 is: -7\n",
            "Product of 2 and 9 is: 18\n",
            "Quotient of 2 and 9 is: 0.2222222222222222\n",
            "Remainder of 2 and 9 is: 2\n"
          ]
        }
      ]
    },
    {
      "cell_type": "markdown",
      "source": [
        "### **Question 6:\tWhat will the following expression return?**\n",
        "15 > 10 and 10 < 5"
      ],
      "metadata": {
        "id": "97EBLgmE4QEO"
      }
    },
    {
      "cell_type": "code",
      "source": [
        "print(15>10 and 10<5)"
      ],
      "metadata": {
        "colab": {
          "base_uri": "https://localhost:8080/"
        },
        "id": "qw5dSVED4ZlV",
        "outputId": "b1ed7d25-6fb2-4a9f-e9f6-a43cfde861ea"
      },
      "execution_count": 8,
      "outputs": [
        {
          "output_type": "stream",
          "name": "stdout",
          "text": [
            "False\n"
          ]
        }
      ]
    },
    {
      "cell_type": "markdown",
      "source": [
        "### **Question 7: Write a Python program that compares two user-input numbers and prints whether they are equal, or which one is greater.**"
      ],
      "metadata": {
        "id": "9oKuGTfc4hkc"
      }
    },
    {
      "cell_type": "code",
      "source": [
        "user_val1 = int(input(\"Enter first value: \"))\n",
        "user_val2 = int(input(\"Enter second value: \"))\n",
        "if user_val1 == user_val2:\n",
        "    print(f\"{user_val1} and {user_val2} are equal.\")\n",
        "elif user_val1 > user_val2:\n",
        "    print(f\"{user_val1} is greater than {user_val2}.\")\n",
        "else:\n",
        "    print(f\"{user_val2} is greater than {user_val1}.\")"
      ],
      "metadata": {
        "colab": {
          "base_uri": "https://localhost:8080/"
        },
        "id": "5ZZTmZ5-4qoY",
        "outputId": "5dfa1520-71a4-4595-df58-5f9579612ff9"
      },
      "execution_count": 10,
      "outputs": [
        {
          "output_type": "stream",
          "name": "stdout",
          "text": [
            "Enter first value: 23\n",
            "Enter second value: 78\n",
            "78 is greater than 23.\n"
          ]
        }
      ]
    },
    {
      "cell_type": "markdown",
      "source": [
        "### **Question 8: Given the code below, what will be the value of a?**\n",
        "a = 5  \n",
        "a += 3  \n",
        "a *= 2  "
      ],
      "metadata": {
        "id": "aDzRTKBm4_lN"
      }
    },
    {
      "cell_type": "code",
      "source": [
        "a = 5\n",
        "a += 3\n",
        "a *= 2\n",
        "print(a)"
      ],
      "metadata": {
        "colab": {
          "base_uri": "https://localhost:8080/"
        },
        "id": "tFpmlz7B5S9u",
        "outputId": "0730fb86-ca01-4af5-bc90-7e71239b5259"
      },
      "execution_count": 11,
      "outputs": [
        {
          "output_type": "stream",
          "name": "stdout",
          "text": [
            "16\n"
          ]
        }
      ]
    },
    {
      "cell_type": "markdown",
      "source": [
        "### **Question 9: Write a program that takes a number and increases it by 10 using an assignment operator.**"
      ],
      "metadata": {
        "id": "famX2mOq5iG-"
      }
    },
    {
      "cell_type": "code",
      "source": [
        "user_val = int(input(\"Enter a number: \"))\n",
        "user_val += 10\n",
        "print(f\"After adding 10, the number is: {user_val}\")"
      ],
      "metadata": {
        "colab": {
          "base_uri": "https://localhost:8080/"
        },
        "id": "-NbVaZvF5nls",
        "outputId": "e6040fb2-c455-4135-d178-9d5529bbfd64"
      },
      "execution_count": 12,
      "outputs": [
        {
          "output_type": "stream",
          "name": "stdout",
          "text": [
            "Enter a number: 2\n",
            "After adding 10, the number is: 12\n"
          ]
        }
      ]
    },
    {
      "cell_type": "markdown",
      "source": [
        "### **Question 10: What is the output of this code?**\n",
        "x = 5  \n",
        "print(x > 3 and x < 10)\n"
      ],
      "metadata": {
        "id": "sBUrx4t56Ics"
      }
    },
    {
      "cell_type": "code",
      "source": [
        "x = 5\n",
        "print(x > 3 and x < 10)"
      ],
      "metadata": {
        "colab": {
          "base_uri": "https://localhost:8080/"
        },
        "id": "bCkDINP16RTa",
        "outputId": "805a255f-c23c-4a66-f08e-4177756ebf27"
      },
      "execution_count": 13,
      "outputs": [
        {
          "output_type": "stream",
          "name": "stdout",
          "text": [
            "True\n"
          ]
        }
      ]
    },
    {
      "cell_type": "markdown",
      "source": [
        "### **Question 11: How does the or operator differ from the and operator in terms of output?**"
      ],
      "metadata": {
        "id": "MWS-THux6Xex"
      }
    },
    {
      "cell_type": "markdown",
      "source": [
        "### **Answer:**\n",
        "The and operator returns True only if both conditions are true.\n",
        "The or operator returns True if at least one condition is true."
      ],
      "metadata": {
        "id": "PlC3w7We6a70"
      }
    },
    {
      "cell_type": "markdown",
      "source": [
        "### **Question 12: What is the difference between == and is in Python?**"
      ],
      "metadata": {
        "id": "0DJqERgI6r42"
      }
    },
    {
      "cell_type": "markdown",
      "source": [
        "### **Answer:**\n",
        "== checks if values of two variables are equal.\n",
        "\n",
        "is checks if both variables point to the same object in memory."
      ],
      "metadata": {
        "id": "GLpBLkSp62XR"
      }
    },
    {
      "cell_type": "markdown",
      "source": [
        "### **13.\tWhat will the following code output and why?**\n",
        "x = [1, 2, 3]  \n",
        "y = [1, 2, 3]  \n",
        "print(x == y)  \n",
        "print(x is y)"
      ],
      "metadata": {
        "id": "wDf-q5_q650h"
      }
    },
    {
      "cell_type": "code",
      "source": [
        "x = [1, 2, 3]\n",
        "y = [1, 2, 3]\n",
        "print(x == y)\n",
        "print(x is y)"
      ],
      "metadata": {
        "colab": {
          "base_uri": "https://localhost:8080/"
        },
        "id": "aJorIktk7GH_",
        "outputId": "87d52233-906d-47b1-e47b-5a9ab1900e18"
      },
      "execution_count": 14,
      "outputs": [
        {
          "output_type": "stream",
          "name": "stdout",
          "text": [
            "True\n",
            "False\n"
          ]
        }
      ]
    },
    {
      "cell_type": "markdown",
      "source": [
        "### **Question 14: Write a Python program that checks if the letter 'a' is present in the word 'banana'.**"
      ],
      "metadata": {
        "id": "l3QT8Zmi7NT4"
      }
    },
    {
      "cell_type": "code",
      "source": [
        "str_value = 'banana'\n",
        "if 'a' in str_value:\n",
        "    print(\"a is present in banana\")\n",
        "else:\n",
        "    print(\"a is not present in banana\")"
      ],
      "metadata": {
        "colab": {
          "base_uri": "https://localhost:8080/"
        },
        "id": "C9zn03EG7SPG",
        "outputId": "b509429f-3994-41f1-8c0f-ef3cbf86fcce"
      },
      "execution_count": 16,
      "outputs": [
        {
          "output_type": "stream",
          "name": "stdout",
          "text": [
            "a is present in banana\n"
          ]
        }
      ]
    },
    {
      "cell_type": "markdown",
      "source": [
        "### **Question 15: What is the result of the bitwise AND operation between 5 and 3?**\n",
        "(Hint: Convert to binary first)\n"
      ],
      "metadata": {
        "id": "H2yMtAFv7vm-"
      }
    },
    {
      "cell_type": "code",
      "source": [
        "# 5 in binary = 0101\n",
        "# 3 in binary = 0011\n",
        "\n",
        "print(5 & 3)"
      ],
      "metadata": {
        "colab": {
          "base_uri": "https://localhost:8080/"
        },
        "id": "cDcBzz_d74o3",
        "outputId": "40b93a32-9ddf-45ef-d3c0-d2dcf990d026"
      },
      "execution_count": 21,
      "outputs": [
        {
          "output_type": "stream",
          "name": "stdout",
          "text": [
            "1\n"
          ]
        }
      ]
    }
  ]
}