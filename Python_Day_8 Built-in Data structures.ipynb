{
  "nbformat": 4,
  "nbformat_minor": 0,
  "metadata": {
    "colab": {
      "provenance": []
    },
    "kernelspec": {
      "name": "python3",
      "display_name": "Python 3"
    },
    "language_info": {
      "name": "python"
    }
  },
  "cells": [
    {
      "cell_type": "markdown",
      "source": [
        "**23-7-2025 | Wednesday | Built-in Data Structures Part 3**"
      ],
      "metadata": {
        "id": "OH1K0hqWBJpD"
      }
    },
    {
      "cell_type": "markdown",
      "source": [
        "# **✅ 15 Python Practice Questions (Topics: Lists, Tuples, Sets, Dictionaries, String Methods)**"
      ],
      "metadata": {
        "id": "XKni6YyZBOSy"
      }
    },
    {
      "cell_type": "markdown",
      "source": [
        "###**Question 1.\tWrite a Python program to merge two dictionaries into one.**"
      ],
      "metadata": {
        "id": "HPSf-74ZBVri"
      }
    },
    {
      "cell_type": "code",
      "execution_count": 4,
      "metadata": {
        "colab": {
          "base_uri": "https://localhost:8080/"
        },
        "id": "2GsE9dENQjfO",
        "outputId": "c15d7e1d-fab3-4b0d-c0ae-25c5c30d6e94"
      },
      "outputs": [
        {
          "output_type": "stream",
          "name": "stdout",
          "text": [
            "{'name': 'Zunaira', 'age': 22, 'city': 'Sadiqabad', 'country': 'Pakistan'}\n"
          ]
        }
      ],
      "source": [
        "dict_1 = {\"name\": \"Zunaira\", \"age\": 22}\n",
        "dict_2 = {\"city\": \"Sadiqabad\", \"country\": \"Pakistan\"}\n",
        "dict_1.update(dict_2)\n",
        "print(dict_1)"
      ]
    },
    {
      "cell_type": "markdown",
      "source": [
        "###**Question 2. How can you check if a key exists in a dictionary?**"
      ],
      "metadata": {
        "id": "9cur3r4OButV"
      }
    },
    {
      "cell_type": "code",
      "metadata": {
        "colab": {
          "base_uri": "https://localhost:8080/"
        },
        "id": "84adb3dd",
        "outputId": "76301e81-0e8f-4d5a-b437-93609adf7d69"
      },
      "source": [
        "my_dict = {\"apple\": 1, \"banana\": 2, \"cherry\": 3}\n",
        "print(\"banana\" in my_dict)\n",
        "print(\"cherry\" not in my_dict)"
      ],
      "execution_count": 9,
      "outputs": [
        {
          "output_type": "stream",
          "name": "stdout",
          "text": [
            "True\n",
            "False\n"
          ]
        }
      ]
    },
    {
      "cell_type": "markdown",
      "source": [
        "###**Question 3. Remove a key-value pair from a dictionary using a method.**"
      ],
      "metadata": {
        "id": "26kxZdl3CbER"
      }
    },
    {
      "cell_type": "code",
      "source": [
        "my_dict = {\"name\": \"Zunaira\", \"age\": 22}\n",
        "del my_dict[\"age\"]\n",
        "print(my_dict)"
      ],
      "metadata": {
        "colab": {
          "base_uri": "https://localhost:8080/"
        },
        "id": "A2-MhgHlCj1K",
        "outputId": "1c666237-7500-4232-de91-794af0482c6d"
      },
      "execution_count": 11,
      "outputs": [
        {
          "output_type": "stream",
          "name": "stdout",
          "text": [
            "{'name': 'Zunaira'}\n"
          ]
        }
      ]
    },
    {
      "cell_type": "markdown",
      "source": [
        "###**Question 4. Use a dictionary method to return the value for a given key, or a default value if the key is not present.**"
      ],
      "metadata": {
        "id": "MKZcoHjFC76e"
      }
    },
    {
      "cell_type": "code",
      "source": [
        "my_dict = {\"name\": \"Zunaira\", \"age\": 22}\n",
        "print(my_dict.get(\"name\", \"Not found\"))\n",
        "print(my_dict.get(\"city\", \"Not found\"))"
      ],
      "metadata": {
        "colab": {
          "base_uri": "https://localhost:8080/"
        },
        "id": "Q5KnBrl_DCwX",
        "outputId": "d65c3163-8687-419d-90cc-ee87ee913c4c"
      },
      "execution_count": 12,
      "outputs": [
        {
          "output_type": "stream",
          "name": "stdout",
          "text": [
            "Zunaira\n",
            "Not found\n"
          ]
        }
      ]
    },
    {
      "cell_type": "markdown",
      "source": [
        "###**Question 5. Convert two lists into a dictionary using zip().**"
      ],
      "metadata": {
        "id": "z3UDA7UGDNnt"
      }
    },
    {
      "cell_type": "code",
      "source": [
        "list_1 = [\"name\", \"age\", \"city\"]\n",
        "list_2 = [\"Zunaira\", 22, \"Sadiqabad\"]\n",
        "my_dict = dict(zip(list_1, list_2))\n",
        "print(my_dict)"
      ],
      "metadata": {
        "colab": {
          "base_uri": "https://localhost:8080/"
        },
        "id": "XdlVZFrYDVa9",
        "outputId": "04d7ea2d-5062-4b20-bd48-8074ee11bbf2"
      },
      "execution_count": 13,
      "outputs": [
        {
          "output_type": "stream",
          "name": "stdout",
          "text": [
            "{'name': 'Zunaira', 'age': 22, 'city': 'Sadiqabad'}\n"
          ]
        }
      ]
    },
    {
      "cell_type": "markdown",
      "source": [
        "###**Question 6. Create a dictionary from user input of 3 key-value pairs.**"
      ],
      "metadata": {
        "id": "gWNRg4S0Dagl"
      }
    },
    {
      "cell_type": "code",
      "source": [
        "my_dict = input(\"Enter 3 key-value pairs in dictionary format (e.g., {'name': 'value', 'age': 0, 'city': 'value'}): \")\n",
        "my_dict = dict(eval(my_dict))\n",
        "print(my_dict)"
      ],
      "metadata": {
        "colab": {
          "base_uri": "https://localhost:8080/"
        },
        "id": "4bjjdJn1Dgj4",
        "outputId": "84fe956e-3c77-4336-b22c-b4a7ac01a4b2"
      },
      "execution_count": 16,
      "outputs": [
        {
          "output_type": "stream",
          "name": "stdout",
          "text": [
            "Enter 3 key-value pairs in dictionary format (e.g., {'name': 'value', 'age': 0, 'city': 'value'}): {'name' : 'Zunaira', 'age' : 22, 'city' : 'Sadiqabad'}\n",
            "{'name': 'Zunaira', 'age': 22, 'city': 'Sadiqabad'}\n"
          ]
        }
      ]
    },
    {
      "cell_type": "markdown",
      "source": [
        "###**Question 7.\tWrite a program to count the frequency of each character in a string using a dictionary.**"
      ],
      "metadata": {
        "id": "8sm5lP--El6i"
      }
    },
    {
      "cell_type": "code",
      "metadata": {
        "colab": {
          "base_uri": "https://localhost:8080/"
        },
        "id": "06be726c",
        "outputId": "d3db3ab0-a6ef-4b01-b436-3e699a82e9d9"
      },
      "source": [
        "my_str = \"Zunaira Hameed\"\n",
        "char_frequency = {}\n",
        "\n",
        "for char in my_str:\n",
        "    char_frequency[char] = char_frequency.get(char, 0) + 1\n",
        "\n",
        "print(char_frequency)"
      ],
      "execution_count": 32,
      "outputs": [
        {
          "output_type": "stream",
          "name": "stdout",
          "text": [
            "{'Z': 1, 'u': 1, 'n': 1, 'a': 3, 'i': 1, 'r': 1, ' ': 1, 'H': 1, 'm': 1, 'e': 2, 'd': 1}\n"
          ]
        }
      ]
    },
    {
      "cell_type": "markdown",
      "source": [
        "###**Question 8.\tGiven a dictionary of students and scores, find the student with the highest score.**"
      ],
      "metadata": {
        "id": "7qSWL8xtE-h4"
      }
    },
    {
      "cell_type": "code",
      "source": [
        "students = {'Zunaira': 80, 'Hameed': 95, 'Ali': 75}\n",
        "for name, score in students.items():\n",
        "  if score == max(students.values()):\n",
        "    print(name, score)"
      ],
      "metadata": {
        "colab": {
          "base_uri": "https://localhost:8080/"
        },
        "id": "HYNXXkoTFRXe",
        "outputId": "53f6680d-c31a-42e5-f9d7-0960919c195d"
      },
      "execution_count": 21,
      "outputs": [
        {
          "output_type": "stream",
          "name": "stdout",
          "text": [
            "Hameed 95\n"
          ]
        }
      ]
    },
    {
      "cell_type": "markdown",
      "source": [
        "###**Question 9.\tUse the set() method to remove duplicates from a list.**"
      ],
      "metadata": {
        "id": "zJWL4H6EH3Gq"
      }
    },
    {
      "cell_type": "code",
      "source": [
        "my_list = [1,2,3,4,4,5,6,6,8,9,1]\n",
        "print(my_list)\n",
        "my_list = list(set(my_list))\n",
        "print(my_list)"
      ],
      "metadata": {
        "colab": {
          "base_uri": "https://localhost:8080/"
        },
        "id": "kdb3H4OuH6r0",
        "outputId": "b2366857-802b-484e-998e-aac81448dcae"
      },
      "execution_count": 22,
      "outputs": [
        {
          "output_type": "stream",
          "name": "stdout",
          "text": [
            "[1, 2, 3, 4, 4, 5, 6, 6, 8, 9, 1]\n",
            "[1, 2, 3, 4, 5, 6, 8, 9]\n"
          ]
        }
      ]
    },
    {
      "cell_type": "markdown",
      "source": [
        "###**Question 10.\tFind the intersection of two sets in Python.**"
      ],
      "metadata": {
        "id": "Dy0nmO_BIKNU"
      }
    },
    {
      "cell_type": "code",
      "source": [
        "set_1 = {1,2,3,4,5}\n",
        "set_2 = {4,5,6,7,8}\n",
        "print(set_1.intersection(set_2))"
      ],
      "metadata": {
        "colab": {
          "base_uri": "https://localhost:8080/"
        },
        "id": "ijp9Gd-jIRPL",
        "outputId": "d1562e3c-86e7-42ea-ebae-88dbdd940b6c"
      },
      "execution_count": 23,
      "outputs": [
        {
          "output_type": "stream",
          "name": "stdout",
          "text": [
            "{4, 5}\n"
          ]
        }
      ]
    },
    {
      "cell_type": "markdown",
      "source": [
        "###**Question 11.\tWrite a program that takes a string and returns the number of vowels in it.**"
      ],
      "metadata": {
        "id": "IoFu_OTrIXzF"
      }
    },
    {
      "cell_type": "code",
      "source": [
        "my_str = input(\"Enter your name:\")\n",
        "vowel_count = 0\n",
        "vowels = \"aeiouAEIOU\"\n",
        "for char in my_str:\n",
        "  if char in vowels:\n",
        "    vowel_count += 1\n",
        "print(f\"The number of vowels in the string is: {vowel_count}\")"
      ],
      "metadata": {
        "colab": {
          "base_uri": "https://localhost:8080/"
        },
        "id": "FDRhoIwhId5A",
        "outputId": "fcb71510-cd7d-4226-dd74-614af25a6ce8"
      },
      "execution_count": 25,
      "outputs": [
        {
          "output_type": "stream",
          "name": "stdout",
          "text": [
            "Enter your name:Zunaira Hameed\n",
            "The number of vowels in the string is: 7\n"
          ]
        }
      ]
    },
    {
      "cell_type": "markdown",
      "source": [
        "###**Question 12.\tReverse a list without using the reverse() method.**"
      ],
      "metadata": {
        "id": "4U9-2W-2JUNe"
      }
    },
    {
      "cell_type": "code",
      "source": [
        "my_list = [1,2,3,4,5,67]\n",
        "reversed_list = my_list[::-1]\n",
        "print(reversed_list)"
      ],
      "metadata": {
        "colab": {
          "base_uri": "https://localhost:8080/"
        },
        "id": "PM_wZjVAJac7",
        "outputId": "d8d3353c-0f13-409b-82cc-73adb72092e3"
      },
      "execution_count": 26,
      "outputs": [
        {
          "output_type": "stream",
          "name": "stdout",
          "text": [
            "[67, 5, 4, 3, 2, 1]\n"
          ]
        }
      ]
    },
    {
      "cell_type": "markdown",
      "source": [
        "###**Question 13.\tWrite a Python program to check if a tuple contains a specific value.**"
      ],
      "metadata": {
        "id": "bv367VXRJs_w"
      }
    },
    {
      "cell_type": "code",
      "source": [
        "my_tuple = (1,2,\"Zunaira\", 7,9, 3.4)\n",
        "print(\"Zunaira\" in my_tuple)\n",
        "print(5 in my_tuple)"
      ],
      "metadata": {
        "colab": {
          "base_uri": "https://localhost:8080/"
        },
        "id": "g3NXx4SYJwxP",
        "outputId": "297c40a7-b07f-4b80-ee39-61798efb4466"
      },
      "execution_count": 27,
      "outputs": [
        {
          "output_type": "stream",
          "name": "stdout",
          "text": [
            "True\n",
            "False\n"
          ]
        }
      ]
    },
    {
      "cell_type": "markdown",
      "source": [
        "###**Question 14.\tConvert a list of tuples into a dictionary.**"
      ],
      "metadata": {
        "id": "U5Srql6UJ_ob"
      }
    },
    {
      "cell_type": "code",
      "source": [
        "list_of_tuples = [('name', 'Zunaira'), ('age', 22), ('city', 'sadiqabad')]\n",
        "list_to_dict = dict(list_of_tuples)\n",
        "print(list_to_dict)"
      ],
      "metadata": {
        "colab": {
          "base_uri": "https://localhost:8080/"
        },
        "id": "CaYudSpYKFpG",
        "outputId": "4cbbacba-d35b-4547-e696-1c100271414a"
      },
      "execution_count": 30,
      "outputs": [
        {
          "output_type": "stream",
          "name": "stdout",
          "text": [
            "{'name': 'Zunaira', 'age': 22, 'city': 'sadiqabad'}\n"
          ]
        }
      ]
    },
    {
      "cell_type": "markdown",
      "source": [
        "###**Question 15.\tCreate a set from a string and display the unique characters.**"
      ],
      "metadata": {
        "id": "HwExeV-LK4ri"
      }
    },
    {
      "cell_type": "code",
      "source": [
        "my_str = \"Zunaira Hameed\"\n",
        "str_to_set = set(my_str)\n",
        "print(str_to_set)"
      ],
      "metadata": {
        "colab": {
          "base_uri": "https://localhost:8080/"
        },
        "id": "dKKuZPO_LBWz",
        "outputId": "c63690f3-b972-42e4-9726-2c698595694f"
      },
      "execution_count": 31,
      "outputs": [
        {
          "output_type": "stream",
          "name": "stdout",
          "text": [
            "{'n', 'r', 'a', 'i', 'H', 'u', 'm', 'e', ' ', 'Z', 'd'}\n"
          ]
        }
      ]
    }
  ]
}