{
  "nbformat": 4,
  "nbformat_minor": 0,
  "metadata": {
    "colab": {
      "provenance": []
    },
    "kernelspec": {
      "name": "python3",
      "display_name": "Python 3"
    },
    "language_info": {
      "name": "python"
    }
  },
  "cells": [
    {
      "cell_type": "markdown",
      "source": [
        "**26-7-2025 | Saturday | File Tasks & String Practices**"
      ],
      "metadata": {
        "id": "ioUt8U7NbRTU"
      }
    },
    {
      "cell_type": "markdown",
      "source": [
        "# **✅ 15 Python Practice Questions**"
      ],
      "metadata": {
        "id": "GO4WQZBmbbS2"
      }
    },
    {
      "cell_type": "markdown",
      "source": [
        "###**Question 1. Write a Python program to count the number of lines in a text file.**"
      ],
      "metadata": {
        "id": "XMoUBlFdbikX"
      }
    },
    {
      "cell_type": "code",
      "execution_count": 3,
      "metadata": {
        "colab": {
          "base_uri": "https://localhost:8080/"
        },
        "id": "T2Am7egWbQaN",
        "outputId": "a03a103b-74d9-4bfb-b7a4-eb6e3fd011e2"
      },
      "outputs": [
        {
          "output_type": "stream",
          "name": "stdout",
          "text": [
            "2\n"
          ]
        }
      ],
      "source": [
        "file = open('myfile.txt', 'w')\n",
        "file.write(\"Hello, I am Zunaira!!\\nI am a python developer.\")\n",
        "file.close()\n",
        "\n",
        "file = open('myfile.txt', 'r')\n",
        "lines = file.readlines()\n",
        "print(len(lines))\n",
        "file.close()"
      ]
    },
    {
      "cell_type": "markdown",
      "source": [
        "###**Question 2. Write a program to count the total number of words in a given text file.**"
      ],
      "metadata": {
        "id": "10YdU9yTb8so"
      }
    },
    {
      "cell_type": "code",
      "source": [
        "file = open('myfile.txt', 'r')\n",
        "words = file.read().split()\n",
        "print(len(words))\n",
        "file.close()"
      ],
      "metadata": {
        "colab": {
          "base_uri": "https://localhost:8080/"
        },
        "id": "gJ0b6AIEcBJ5",
        "outputId": "b78ec0ec-a697-4630-acdf-34444787be33"
      },
      "execution_count": 4,
      "outputs": [
        {
          "output_type": "stream",
          "name": "stdout",
          "text": [
            "9\n"
          ]
        }
      ]
    },
    {
      "cell_type": "markdown",
      "source": [
        "###**Question 3. Write a program that counts the number of characters (including spaces) in a file.**"
      ],
      "metadata": {
        "id": "CU4KFrjiceaX"
      }
    },
    {
      "cell_type": "code",
      "source": [
        "file = open('myfile.txt', 'r')\n",
        "for line in file:\n",
        "  print(len(line))\n",
        "file.close()"
      ],
      "metadata": {
        "colab": {
          "base_uri": "https://localhost:8080/"
        },
        "id": "R3TEqs2Ichrb",
        "outputId": "95a1a57d-7b97-44bf-f94f-36ced55f47da"
      },
      "execution_count": 5,
      "outputs": [
        {
          "output_type": "stream",
          "name": "stdout",
          "text": [
            "22\n",
            "24\n"
          ]
        }
      ]
    },
    {
      "cell_type": "markdown",
      "source": [
        "###**Question 4. Write a Python script to search for a specific word in a text file and display the lines where it appears.**"
      ],
      "metadata": {
        "id": "jSHjvxAZdHPH"
      }
    },
    {
      "cell_type": "code",
      "source": [
        "file = open('myfile.txt', 'r')\n",
        "lines = file.readlines()\n",
        "for line in lines:\n",
        "  if 'developer' in line:\n",
        "    print(line)"
      ],
      "metadata": {
        "colab": {
          "base_uri": "https://localhost:8080/"
        },
        "id": "XHr_9yIndvaP",
        "outputId": "a7b166fc-0b86-4a12-cb30-f7fdcd7984ec"
      },
      "execution_count": 6,
      "outputs": [
        {
          "output_type": "stream",
          "name": "stdout",
          "text": [
            "I am a python developer.\n"
          ]
        }
      ]
    },
    {
      "cell_type": "markdown",
      "source": [
        "###**Question 5. Create a program that replaces a given word in a file with another word and saves the result.**"
      ],
      "metadata": {
        "id": "ZkI-8Pzdd4So"
      }
    },
    {
      "cell_type": "code",
      "source": [
        "file = open('myfile.txt', 'r')\n",
        "lines = file.readlines()\n",
        "for i in range(len(lines)):\n",
        "  lines[i] = lines[i].replace('developer', 'programmer')\n",
        "file.close()"
      ],
      "metadata": {
        "id": "wMinm-T_d9Ke"
      },
      "execution_count": 7,
      "outputs": []
    },
    {
      "cell_type": "markdown",
      "source": [
        "###**Question 6. Write a program to read a file and print the frequency of each word (word count).**"
      ],
      "metadata": {
        "id": "llTUA81weU2x"
      }
    },
    {
      "cell_type": "code",
      "source": [
        "file = open('myfile.txt', 'r')\n",
        "word_counts = {}\n",
        "for line in file:\n",
        "    words = line.split()\n",
        "    for word in words:\n",
        "        word = word.strip('.,!!')\n",
        "        if word in word_counts:\n",
        "            word_counts[word] += 1\n",
        "        else:\n",
        "            word_counts[word] = 1\n",
        "\n",
        "for word, count in word_counts.items():\n",
        "    print(f'{word}: {count}')\n",
        "\n",
        "file.close()"
      ],
      "metadata": {
        "colab": {
          "base_uri": "https://localhost:8080/"
        },
        "id": "Ggl3H8HpeYco",
        "outputId": "1c2da842-22f4-4682-f818-dfb7c7ba18d3"
      },
      "execution_count": 8,
      "outputs": [
        {
          "output_type": "stream",
          "name": "stdout",
          "text": [
            "Hello: 1\n",
            "I: 2\n",
            "am: 2\n",
            "Zunaira: 1\n",
            "a: 1\n",
            "python: 1\n",
            "developer: 1\n"
          ]
        }
      ]
    },
    {
      "cell_type": "markdown",
      "source": [
        "###**Question 7. Write a script to read a file and count how many times a specific word appears.**"
      ],
      "metadata": {
        "id": "NO8iG9drfEL1"
      }
    },
    {
      "cell_type": "code",
      "source": [
        "file = open('myfile.txt', 'r')\n",
        "word_counts = {}\n",
        "for line in file:\n",
        "    words = line.split()\n",
        "    for word in words:\n",
        "        word = word.strip('.,!!')\n",
        "        if word in word_counts:\n",
        "            word_counts[word] += 1\n",
        "        else:\n",
        "            word_counts[word] = 1\n",
        "\n",
        "print(word_counts.get('python', 0))\n",
        "file.close()"
      ],
      "metadata": {
        "colab": {
          "base_uri": "https://localhost:8080/"
        },
        "id": "4tgQ2necfH2y",
        "outputId": "4ce3dccd-79c2-44c3-8c86-8bbdadce45a1"
      },
      "execution_count": 11,
      "outputs": [
        {
          "output_type": "stream",
          "name": "stdout",
          "text": [
            "1\n"
          ]
        }
      ]
    },
    {
      "cell_type": "markdown",
      "source": [
        "###**Question 8. Write a program that removes all punctuation from a text file and saves the cleaned version.**"
      ],
      "metadata": {
        "id": "OBtduXbszGy6"
      }
    },
    {
      "cell_type": "code",
      "source": [
        "file = open('myfile.txt', 'r')\n",
        "lines = file.readlines()\n",
        "for i in range(len(lines)):\n",
        "  lines[i] = lines[i].replace('.', ' ')\n",
        "  lines[i] = lines[i].replace(',', ' ')\n",
        "  lines[i] = lines[i].replace('!', ' ')\n",
        "  lines[i] = lines[i].replace('?', ' ')\n",
        "file.close()"
      ],
      "metadata": {
        "id": "xSz1zEVHyuuv"
      },
      "execution_count": 12,
      "outputs": []
    },
    {
      "cell_type": "markdown",
      "source": [
        "###**Question 9. Write a Python program to reverse the content of each line in a file.**"
      ],
      "metadata": {
        "id": "BBTe3ItyztOI"
      }
    },
    {
      "cell_type": "code",
      "source": [
        "file = open('myfile.txt', 'r')\n",
        "lines = file.readlines()\n",
        "for i in range(len(lines)):\n",
        "  lines[i] = lines[i][::-1]\n",
        "  print(lines[i])\n",
        "file.close()"
      ],
      "metadata": {
        "colab": {
          "base_uri": "https://localhost:8080/"
        },
        "id": "2rUj1MZszxfI",
        "outputId": "5b5a5efd-2b0d-4560-c437-f1629a284012"
      },
      "execution_count": 14,
      "outputs": [
        {
          "output_type": "stream",
          "name": "stdout",
          "text": [
            "\n",
            "!!arianuZ ma I ,olleH\n",
            ".repoleved nohtyp a ma I\n"
          ]
        }
      ]
    },
    {
      "cell_type": "markdown",
      "source": [
        "###**Question 10. Write a program to copy the contents of one file to another.**"
      ],
      "metadata": {
        "id": "M6lJ5g33z_nZ"
      }
    },
    {
      "cell_type": "code",
      "source": [
        "file = open('myfile.txt', 'r')\n",
        "lines = file.readlines()\n",
        "\n",
        "new_file = open('new_file.txt', 'w')\n",
        "for line in lines:\n",
        "  new_file.write(line)\n",
        "new_file.close()"
      ],
      "metadata": {
        "id": "M5tP0oWT0D6W"
      },
      "execution_count": 18,
      "outputs": []
    },
    {
      "cell_type": "markdown",
      "source": [
        "###**Question 11. Write a script that appends a new line to an existing file.**"
      ],
      "metadata": {
        "id": "zIW3GozU0WVE"
      }
    },
    {
      "cell_type": "code",
      "source": [
        "file = open('myfile.txt', 'a')\n",
        "file.write('\\nMy other name is Black Eagle.')\n",
        "file.close()"
      ],
      "metadata": {
        "id": "t0aY_xkE0bAX"
      },
      "execution_count": 20,
      "outputs": []
    },
    {
      "cell_type": "markdown",
      "source": [
        "###**Question 12. Write a program to find and replace multiple words in a text file using a dictionary.**"
      ],
      "metadata": {
        "id": "X3cgzTxY0sCv"
      }
    },
    {
      "cell_type": "code",
      "source": [
        "file = open('myfile.txt', 'r')\n",
        "lines = file.readlines()\n",
        "for i in range(len(lines)):\n",
        "  lines[i] = lines[i].replace('developer', 'programmer')\n",
        "  lines[i] = lines[i].replace('python', 'java')\n",
        "file.close()"
      ],
      "metadata": {
        "id": "1v20FLYl0xpK"
      },
      "execution_count": 21,
      "outputs": []
    },
    {
      "cell_type": "markdown",
      "source": [
        "###**Question 13. Write a program that reads a file and prints only the unique words used in it.**"
      ],
      "metadata": {
        "id": "kwpeovrP1Fj6"
      }
    },
    {
      "cell_type": "code",
      "source": [
        "file = open('myfile.txt', 'r')\n",
        "words = file.read().split()\n",
        "unique_words = set(words)\n",
        "print(unique_words)"
      ],
      "metadata": {
        "colab": {
          "base_uri": "https://localhost:8080/"
        },
        "id": "QTn-WFsN1Joz",
        "outputId": "218b357f-01ef-49a3-fc6f-0eb98cef6884"
      },
      "execution_count": 22,
      "outputs": [
        {
          "output_type": "stream",
          "name": "stdout",
          "text": [
            "{'My', 'Eagle.', 'I', 'is', 'Hello,', 'developer.', 'name', 'Black', 'a', 'other', 'Zunaira!!', 'python', 'am'}\n"
          ]
        }
      ]
    },
    {
      "cell_type": "markdown",
      "source": [
        "###**Question 14. Write a Python script to read a text file and print its content in uppercase.**"
      ],
      "metadata": {
        "id": "Dv2XXhjC1VCV"
      }
    },
    {
      "cell_type": "code",
      "source": [
        "file = open('myfile.txt', 'r')\n",
        "lines = file.readlines()\n",
        "for line in lines:\n",
        "  print(line.upper())\n",
        "file.close()"
      ],
      "metadata": {
        "colab": {
          "base_uri": "https://localhost:8080/"
        },
        "id": "y_SBn8vB1aQk",
        "outputId": "9c78bf45-32c7-45e3-cc41-e3f73b5f4a55"
      },
      "execution_count": 26,
      "outputs": [
        {
          "output_type": "stream",
          "name": "stdout",
          "text": [
            "HELLO, I AM ZUNAIRA!!\n",
            "\n",
            "I AM A PYTHON DEVELOPER.\n",
            "\n",
            "MY OTHER NAME IS BLACK EAGLE.\n",
            "\n",
            "MY OTHER NAME IS BLACK EAGLE.\n"
          ]
        }
      ]
    },
    {
      "cell_type": "markdown",
      "source": [
        "###**Question 15. Write a program to read a file and remove all duplicate lines.**"
      ],
      "metadata": {
        "id": "j0aLJrZq1oM0"
      }
    },
    {
      "cell_type": "code",
      "source": [
        "file = open('myfile.txt', 'r')\n",
        "lines = file.readlines()\n",
        "unique_lines = set(lines)\n",
        "print(unique_lines)\n",
        "file.close()"
      ],
      "metadata": {
        "colab": {
          "base_uri": "https://localhost:8080/"
        },
        "id": "J4ORNsKr1tma",
        "outputId": "afeccafd-4e9d-4179-cb75-1dddb96a621f"
      },
      "execution_count": 28,
      "outputs": [
        {
          "output_type": "stream",
          "name": "stdout",
          "text": [
            "{'I am a python developer.\\n', 'My other name is Black Eagle.', 'My other name is Black Eagle.\\n', 'Hello, I am Zunaira!!\\n'}\n"
          ]
        }
      ]
    }
  ]
}